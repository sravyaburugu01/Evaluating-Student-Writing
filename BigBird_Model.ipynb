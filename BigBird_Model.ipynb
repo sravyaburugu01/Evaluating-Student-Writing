{
 "cells": [
  {
   "cell_type": "markdown",
   "metadata": {},
   "source": [
    "# Evaluating Student Writing\n",
    "We aim to identify elements in student writing i.e. we segment text and classify argumentative and rhetorical elements i.e. predict human annotations in essays written by 6th-12th\n",
    "grade students.\n"
   ]
  },
  {
   "cell_type": "markdown",
   "metadata": {},
   "source": [
    "(The demo and visualisation on the test data is at the end of the file)"
   ]
  },
  {
   "cell_type": "markdown",
   "metadata": {},
   "source": [
    "## Setup"
   ]
  },
  {
   "cell_type": "code",
   "execution_count": 1,
   "metadata": {
    "execution": {
     "iopub.execute_input": "2022-05-05T20:00:42.343257Z",
     "iopub.status.busy": "2022-05-05T20:00:42.342693Z",
     "iopub.status.idle": "2022-05-05T20:01:31.272489Z",
     "shell.execute_reply": "2022-05-05T20:01:31.271425Z",
     "shell.execute_reply.started": "2022-05-05T20:00:42.343174Z"
    }
   },
   "outputs": [
    {
     "name": "stdout",
     "output_type": "stream",
     "text": [
      "Requirement already satisfied: seqeval in /opt/conda/lib/python3.7/site-packages (1.2.2)\n",
      "Requirement already satisfied: scikit-learn>=0.21.3 in /opt/conda/lib/python3.7/site-packages (from seqeval) (0.23.2)\n",
      "Requirement already satisfied: numpy>=1.14.0 in /opt/conda/lib/python3.7/site-packages (from seqeval) (1.19.5)\n",
      "Requirement already satisfied: joblib>=0.11 in /opt/conda/lib/python3.7/site-packages (from scikit-learn>=0.21.3->seqeval) (1.1.0)\n",
      "Requirement already satisfied: threadpoolctl>=2.0.0 in /opt/conda/lib/python3.7/site-packages (from scikit-learn>=0.21.3->seqeval) (3.0.0)\n",
      "Requirement already satisfied: scipy>=0.19.1 in /opt/conda/lib/python3.7/site-packages (from scikit-learn>=0.21.3->seqeval) (1.7.2)\n",
      "\u001b[33mWARNING: Running pip as the 'root' user can result in broken permissions and conflicting behaviour with the system package manager. It is recommended to use a virtual environment instead: https://pip.pypa.io/warnings/venv\u001b[0m\n",
      "Requirement already satisfied: wandb in /opt/conda/lib/python3.7/site-packages (0.12.16)\n",
      "Requirement already satisfied: Click!=8.0.0,>=7.0 in /opt/conda/lib/python3.7/site-packages (from wandb) (8.0.3)\n",
      "Requirement already satisfied: docker-pycreds>=0.4.0 in /opt/conda/lib/python3.7/site-packages (from wandb) (0.4.0)\n",
      "Requirement already satisfied: psutil>=5.0.0 in /opt/conda/lib/python3.7/site-packages (from wandb) (5.8.0)\n",
      "Requirement already satisfied: protobuf>=3.12.0 in /opt/conda/lib/python3.7/site-packages (from wandb) (3.19.1)\n",
      "Requirement already satisfied: python-dateutil>=2.6.1 in /opt/conda/lib/python3.7/site-packages (from wandb) (2.8.0)\n",
      "Requirement already satisfied: six>=1.13.0 in /opt/conda/lib/python3.7/site-packages (from wandb) (1.16.0)\n",
      "Requirement already satisfied: setproctitle in /opt/conda/lib/python3.7/site-packages (from wandb) (1.2.3)\n",
      "Requirement already satisfied: PyYAML in /opt/conda/lib/python3.7/site-packages (from wandb) (6.0)\n",
      "Requirement already satisfied: shortuuid>=0.5.0 in /opt/conda/lib/python3.7/site-packages (from wandb) (1.0.8)\n",
      "Requirement already satisfied: sentry-sdk>=1.0.0 in /opt/conda/lib/python3.7/site-packages (from wandb) (1.5.0)\n",
      "Requirement already satisfied: pathtools in /opt/conda/lib/python3.7/site-packages (from wandb) (0.1.2)\n",
      "Requirement already satisfied: promise<3,>=2.0 in /opt/conda/lib/python3.7/site-packages (from wandb) (2.3)\n",
      "Requirement already satisfied: setuptools in /opt/conda/lib/python3.7/site-packages (from wandb) (59.1.1)\n",
      "Requirement already satisfied: requests<3,>=2.0.0 in /opt/conda/lib/python3.7/site-packages (from wandb) (2.25.1)\n",
      "Requirement already satisfied: GitPython>=1.0.0 in /opt/conda/lib/python3.7/site-packages (from wandb) (3.1.24)\n",
      "Requirement already satisfied: importlib-metadata in /opt/conda/lib/python3.7/site-packages (from Click!=8.0.0,>=7.0->wandb) (4.8.2)\n",
      "Requirement already satisfied: gitdb<5,>=4.0.1 in /opt/conda/lib/python3.7/site-packages (from GitPython>=1.0.0->wandb) (4.0.9)\n",
      "Requirement already satisfied: typing-extensions>=3.7.4.3 in /opt/conda/lib/python3.7/site-packages (from GitPython>=1.0.0->wandb) (3.10.0.2)\n",
      "Requirement already satisfied: idna<3,>=2.5 in /opt/conda/lib/python3.7/site-packages (from requests<3,>=2.0.0->wandb) (2.10)\n",
      "Requirement already satisfied: certifi>=2017.4.17 in /opt/conda/lib/python3.7/site-packages (from requests<3,>=2.0.0->wandb) (2021.10.8)\n",
      "Requirement already satisfied: chardet<5,>=3.0.2 in /opt/conda/lib/python3.7/site-packages (from requests<3,>=2.0.0->wandb) (4.0.0)\n",
      "Requirement already satisfied: urllib3<1.27,>=1.21.1 in /opt/conda/lib/python3.7/site-packages (from requests<3,>=2.0.0->wandb) (1.26.7)\n",
      "Requirement already satisfied: smmap<6,>=3.0.1 in /opt/conda/lib/python3.7/site-packages (from gitdb<5,>=4.0.1->GitPython>=1.0.0->wandb) (3.0.5)\n",
      "Requirement already satisfied: zipp>=0.5 in /opt/conda/lib/python3.7/site-packages (from importlib-metadata->Click!=8.0.0,>=7.0->wandb) (3.6.0)\n",
      "\u001b[33mWARNING: Running pip as the 'root' user can result in broken permissions and conflicting behaviour with the system package manager. It is recommended to use a virtual environment instead: https://pip.pypa.io/warnings/venv\u001b[0m\n"
     ]
    }
   ],
   "source": [
    "# Install libraries to get evaluation metrics for training data\n",
    "!pip install seqeval\n",
    "!pip install seqeval -qq \n",
    "!pip install wandb\n",
    "!pip install --upgrade wandb -qq \n",
    "import wandb\n",
    "import warnings\n",
    "warnings.filterwarnings('ignore')\n",
    "warnings.simplefilter('ignore')\n",
    "\n",
    "# visualization with displacy\n",
    "import pandas as pd\n",
    "import os\n",
    "from pathlib import Path\n",
    "import spacy\n",
    "from spacy import displacy\n",
    "from pylab import cm, matplotlib"
   ]
  },
  {
   "cell_type": "markdown",
   "metadata": {},
   "source": [
    "### Choose Model to run"
   ]
  },
  {
   "cell_type": "code",
   "execution_count": 2,
   "metadata": {
    "execution": {
     "iopub.execute_input": "2022-05-05T20:01:46.011436Z",
     "iopub.status.busy": "2022-05-05T20:01:46.011112Z",
     "iopub.status.idle": "2022-05-05T20:01:50.432755Z",
     "shell.execute_reply": "2022-05-05T20:01:50.431630Z",
     "shell.execute_reply.started": "2022-05-05T20:01:46.011402Z"
    }
   },
   "outputs": [
    {
     "name": "stdout",
     "output_type": "stream",
     "text": [
      "Choose the model to run: \n",
      " 1. LongFormer \n",
      " 2. BigBird\n",
      "Kindly enter 1 or 2\n"
     ]
    },
    {
     "name": "stdin",
     "output_type": "stream",
     "text": [
      " 2\n"
     ]
    },
    {
     "name": "stdout",
     "output_type": "stream",
     "text": [
      "The model choosen is BigBird\n"
     ]
    }
   ],
   "source": [
    "print(\"Choose the model to run: \\n 1. LongFormer \\n 2. BigBird\")\n",
    "print(\"Kindly enter 1 or 2\")\n",
    "while True:\n",
    "    input_model = input()\n",
    "    if len(input_model)>1:\n",
    "        print(\"Invalid Input, Kindly enter 1 or 2\")\n",
    "    else:\n",
    "        if input_model == '1':\n",
    "            model_checkpoint = \"allenai/longformer-base-4096\"\n",
    "            print(\"The model choosen is Longformer\")\n",
    "            break\n",
    "        elif input_model == '2':\n",
    "            model_checkpoint = \"google/bigbird-roberta-base\"\n",
    "            print(\"The model choosen is BigBird\")\n",
    "            break\n",
    "        else:\n",
    "            print(\"Invalid Input, Kindly enter 1 or 2\") \n"
   ]
  },
  {
   "cell_type": "markdown",
   "metadata": {},
   "source": [
    "## Configurations "
   ]
  },
  {
   "cell_type": "code",
   "execution_count": 3,
   "metadata": {
    "_cell_guid": "b1076dfc-b9ad-4769-8c92-a6c4dae69d19",
    "_uuid": "8f2839f25d086af736a60e9eeb907d3b93b6e0e5",
    "execution": {
     "iopub.execute_input": "2022-05-05T20:01:54.267742Z",
     "iopub.status.busy": "2022-05-05T20:01:54.267333Z",
     "iopub.status.idle": "2022-05-05T20:01:54.288297Z",
     "shell.execute_reply": "2022-05-05T20:01:54.286762Z",
     "shell.execute_reply.started": "2022-05-05T20:01:54.267694Z"
    }
   },
   "outputs": [],
   "source": [
    "# Configurations\n",
    "\n",
    "SAMPLE =  False # Used for debugging\n",
    "\n",
    "EXP_NUM = 4\n",
    "task = \"ner\"\n",
    "max_length = 1024\n",
    "stride = 128\n",
    "min_tokens = 6\n",
    "model_path = f'{model_checkpoint.split(\"/\")[-1]}-{EXP_NUM}'\n",
    "max_length = 1024\n",
    "batch_size = 4 \n",
    "\n",
    "# TRAINING HYPERPARAMS\n",
    "BS = 4\n",
    "GRAD_ACC = 8\n",
    "LR = 5e-5\n",
    "WD = 0.01\n",
    "WARMUP = 0.1\n",
    "N_EPOCHS = 5"
   ]
  },
  {
   "cell_type": "markdown",
   "metadata": {},
   "source": [
    "## Data Preprocessing"
   ]
  },
  {
   "cell_type": "code",
   "execution_count": 4,
   "metadata": {
    "execution": {
     "iopub.execute_input": "2022-05-05T20:01:56.635745Z",
     "iopub.status.busy": "2022-05-05T20:01:56.634874Z",
     "iopub.status.idle": "2022-05-05T20:01:57.557874Z",
     "shell.execute_reply": "2022-05-05T20:01:57.556852Z",
     "shell.execute_reply.started": "2022-05-05T20:01:56.635707Z"
    }
   },
   "outputs": [
    {
     "data": {
      "text/html": [
       "<div>\n",
       "<style scoped>\n",
       "    .dataframe tbody tr th:only-of-type {\n",
       "        vertical-align: middle;\n",
       "    }\n",
       "\n",
       "    .dataframe tbody tr th {\n",
       "        vertical-align: top;\n",
       "    }\n",
       "\n",
       "    .dataframe thead th {\n",
       "        text-align: right;\n",
       "    }\n",
       "</style>\n",
       "<table border=\"1\" class=\"dataframe\">\n",
       "  <thead>\n",
       "    <tr style=\"text-align: right;\">\n",
       "      <th></th>\n",
       "      <th>id</th>\n",
       "      <th>discourse_id</th>\n",
       "      <th>discourse_start</th>\n",
       "      <th>discourse_end</th>\n",
       "      <th>discourse_text</th>\n",
       "      <th>discourse_type</th>\n",
       "      <th>discourse_type_num</th>\n",
       "      <th>predictionstring</th>\n",
       "    </tr>\n",
       "  </thead>\n",
       "  <tbody>\n",
       "    <tr>\n",
       "      <th>0</th>\n",
       "      <td>423A1CA112E2</td>\n",
       "      <td>1.622628e+12</td>\n",
       "      <td>8.0</td>\n",
       "      <td>229.0</td>\n",
       "      <td>Modern humans today are always on their phone....</td>\n",
       "      <td>Lead</td>\n",
       "      <td>Lead 1</td>\n",
       "      <td>1 2 3 4 5 6 7 8 9 10 11 12 13 14 15 16 17 18 1...</td>\n",
       "    </tr>\n",
       "    <tr>\n",
       "      <th>1</th>\n",
       "      <td>423A1CA112E2</td>\n",
       "      <td>1.622628e+12</td>\n",
       "      <td>230.0</td>\n",
       "      <td>312.0</td>\n",
       "      <td>They are some really bad consequences when stu...</td>\n",
       "      <td>Position</td>\n",
       "      <td>Position 1</td>\n",
       "      <td>45 46 47 48 49 50 51 52 53 54 55 56 57 58 59</td>\n",
       "    </tr>\n",
       "    <tr>\n",
       "      <th>2</th>\n",
       "      <td>423A1CA112E2</td>\n",
       "      <td>1.622628e+12</td>\n",
       "      <td>313.0</td>\n",
       "      <td>401.0</td>\n",
       "      <td>Some certain areas in the United States ban ph...</td>\n",
       "      <td>Evidence</td>\n",
       "      <td>Evidence 1</td>\n",
       "      <td>60 61 62 63 64 65 66 67 68 69 70 71 72 73 74 75</td>\n",
       "    </tr>\n",
       "    <tr>\n",
       "      <th>3</th>\n",
       "      <td>423A1CA112E2</td>\n",
       "      <td>1.622628e+12</td>\n",
       "      <td>402.0</td>\n",
       "      <td>758.0</td>\n",
       "      <td>When people have phones, they know about certa...</td>\n",
       "      <td>Evidence</td>\n",
       "      <td>Evidence 2</td>\n",
       "      <td>76 77 78 79 80 81 82 83 84 85 86 87 88 89 90 9...</td>\n",
       "    </tr>\n",
       "    <tr>\n",
       "      <th>4</th>\n",
       "      <td>423A1CA112E2</td>\n",
       "      <td>1.622628e+12</td>\n",
       "      <td>759.0</td>\n",
       "      <td>886.0</td>\n",
       "      <td>Driving is one of the way how to get around. P...</td>\n",
       "      <td>Claim</td>\n",
       "      <td>Claim 1</td>\n",
       "      <td>139 140 141 142 143 144 145 146 147 148 149 15...</td>\n",
       "    </tr>\n",
       "  </tbody>\n",
       "</table>\n",
       "</div>"
      ],
      "text/plain": [
       "             id  discourse_id  discourse_start  discourse_end  \\\n",
       "0  423A1CA112E2  1.622628e+12              8.0          229.0   \n",
       "1  423A1CA112E2  1.622628e+12            230.0          312.0   \n",
       "2  423A1CA112E2  1.622628e+12            313.0          401.0   \n",
       "3  423A1CA112E2  1.622628e+12            402.0          758.0   \n",
       "4  423A1CA112E2  1.622628e+12            759.0          886.0   \n",
       "\n",
       "                                      discourse_text discourse_type  \\\n",
       "0  Modern humans today are always on their phone....           Lead   \n",
       "1  They are some really bad consequences when stu...       Position   \n",
       "2  Some certain areas in the United States ban ph...       Evidence   \n",
       "3  When people have phones, they know about certa...       Evidence   \n",
       "4  Driving is one of the way how to get around. P...          Claim   \n",
       "\n",
       "  discourse_type_num                                   predictionstring  \n",
       "0             Lead 1  1 2 3 4 5 6 7 8 9 10 11 12 13 14 15 16 17 18 1...  \n",
       "1         Position 1       45 46 47 48 49 50 51 52 53 54 55 56 57 58 59  \n",
       "2         Evidence 1    60 61 62 63 64 65 66 67 68 69 70 71 72 73 74 75  \n",
       "3         Evidence 2  76 77 78 79 80 81 82 83 84 85 86 87 88 89 90 9...  \n",
       "4            Claim 1  139 140 141 142 143 144 145 146 147 148 149 15...  "
      ]
     },
     "execution_count": 4,
     "metadata": {},
     "output_type": "execute_result"
    }
   ],
   "source": [
    "import pandas as pd\n",
    "\n",
    "# Importing the train data\n",
    "train = pd.read_csv('../input/feedback-prize-2021/train.csv')\n",
    "train.head()"
   ]
  },
  {
   "cell_type": "code",
   "execution_count": 5,
   "metadata": {
    "execution": {
     "iopub.execute_input": "2022-05-05T20:01:57.560782Z",
     "iopub.status.busy": "2022-05-05T20:01:57.560233Z",
     "iopub.status.idle": "2022-05-05T20:01:57.582627Z",
     "shell.execute_reply": "2022-05-05T20:01:57.581223Z",
     "shell.execute_reply.started": "2022-05-05T20:01:57.560732Z"
    }
   },
   "outputs": [
    {
     "data": {
      "text/plain": [
       "['Lead',\n",
       " 'Position',\n",
       " 'Evidence',\n",
       " 'Claim',\n",
       " 'Concluding Statement',\n",
       " 'Counterclaim',\n",
       " 'Rebuttal']"
      ]
     },
     "execution_count": 5,
     "metadata": {},
     "output_type": "execute_result"
    }
   ],
   "source": [
    "# Viewing the unique classes in the dataset\n",
    "classes = train.discourse_type.unique().tolist()\n",
    "classes"
   ]
  },
  {
   "cell_type": "code",
   "execution_count": 6,
   "metadata": {
    "execution": {
     "iopub.execute_input": "2022-05-05T20:01:57.584894Z",
     "iopub.status.busy": "2022-05-05T20:01:57.584442Z",
     "iopub.status.idle": "2022-05-05T20:01:57.599241Z",
     "shell.execute_reply": "2022-05-05T20:01:57.597873Z",
     "shell.execute_reply.started": "2022-05-05T20:01:57.584844Z"
    }
   },
   "outputs": [
    {
     "name": "stdout",
     "output_type": "stream",
     "text": [
      "0 Lead\n",
      "1 Position\n",
      "2 Evidence\n",
      "3 Claim\n",
      "4 Concluding Statement\n",
      "5 Counterclaim\n",
      "6 Rebuttal\n"
     ]
    }
   ],
   "source": [
    "# Setting label incides\n",
    "from collections import defaultdict\n",
    "tags = defaultdict()\n",
    "\n",
    "for i, c in enumerate(classes):\n",
    "    print(i,c)\n",
    "    tags[f'B-{c}'] = i\n",
    "    tags[f'I-{c}'] = i + len(classes)\n",
    "tags[f'O'] = len(classes) * 2\n",
    "tags[f'Special'] = -100\n",
    "    \n",
    "l2i = dict(tags)\n",
    "\n",
    "i2l = defaultdict()\n",
    "for k, v in l2i.items(): \n",
    "    i2l[v] = k\n",
    "i2l[-100] = 'Special'\n",
    "\n",
    "i2l = dict(i2l)\n",
    "\n",
    "N_LABELS = len(i2l) - 1 "
   ]
  },
  {
   "cell_type": "code",
   "execution_count": 7,
   "metadata": {
    "execution": {
     "iopub.execute_input": "2022-05-05T20:01:57.823877Z",
     "iopub.status.busy": "2022-05-05T20:01:57.822959Z",
     "iopub.status.idle": "2022-05-05T20:01:57.831521Z",
     "shell.execute_reply": "2022-05-05T20:01:57.830454Z",
     "shell.execute_reply.started": "2022-05-05T20:01:57.823837Z"
    }
   },
   "outputs": [
    {
     "data": {
      "text/plain": [
       "defaultdict(None,\n",
       "            {'B-Lead': 0,\n",
       "             'I-Lead': 7,\n",
       "             'B-Position': 1,\n",
       "             'I-Position': 8,\n",
       "             'B-Evidence': 2,\n",
       "             'I-Evidence': 9,\n",
       "             'B-Claim': 3,\n",
       "             'I-Claim': 10,\n",
       "             'B-Concluding Statement': 4,\n",
       "             'I-Concluding Statement': 11,\n",
       "             'B-Counterclaim': 5,\n",
       "             'I-Counterclaim': 12,\n",
       "             'B-Rebuttal': 6,\n",
       "             'I-Rebuttal': 13,\n",
       "             'O': 14,\n",
       "             'Special': -100})"
      ]
     },
     "execution_count": 7,
     "metadata": {},
     "output_type": "execute_result"
    }
   ],
   "source": [
    "# Viewing the tags assigned to the classes\n",
    "tags"
   ]
  },
  {
   "cell_type": "code",
   "execution_count": 8,
   "metadata": {
    "execution": {
     "iopub.execute_input": "2022-05-05T20:01:58.198264Z",
     "iopub.status.busy": "2022-05-05T20:01:58.197569Z",
     "iopub.status.idle": "2022-05-05T20:01:58.205362Z",
     "shell.execute_reply": "2022-05-05T20:01:58.204105Z",
     "shell.execute_reply.started": "2022-05-05T20:01:58.198227Z"
    }
   },
   "outputs": [],
   "source": [
    "# Reading raw text from the essay files\n",
    "\n",
    "from pathlib import Path\n",
    "\n",
    "path = Path('../input/feedback-prize-2021/train')\n",
    "\n",
    "def get_raw_text(ids):\n",
    "    with open(path/f'{ids}.txt', 'r') as file: data = file.read()\n",
    "    return data"
   ]
  },
  {
   "cell_type": "code",
   "execution_count": 9,
   "metadata": {
    "execution": {
     "iopub.execute_input": "2022-05-05T20:01:58.938234Z",
     "iopub.status.busy": "2022-05-05T20:01:58.937175Z",
     "iopub.status.idle": "2022-05-05T20:02:16.991578Z",
     "shell.execute_reply": "2022-05-05T20:02:16.990546Z",
     "shell.execute_reply.started": "2022-05-05T20:01:58.938186Z"
    }
   },
   "outputs": [],
   "source": [
    "# Grouping annotations based on discourse_type, discourse_start, discourse_end and \n",
    "# predictionstring to form single tuple for each essay\n",
    "\n",
    "df1 = train.groupby('id')['discourse_type'].apply(list).reset_index(name='classlist')\n",
    "df2 = train.groupby('id')['discourse_start'].apply(list).reset_index(name='starts')\n",
    "df3 = train.groupby('id')['discourse_end'].apply(list).reset_index(name='ends')\n",
    "df4 = train.groupby('id')['predictionstring'].apply(list).reset_index(name='predictionstrings')\n",
    "\n",
    "#Merging the dataframes\n",
    "df = pd.merge(df1, df2, how='inner', on='id')\n",
    "df = pd.merge(df, df3, how='inner', on='id')\n",
    "df = pd.merge(df, df4, how='inner', on='id')\n",
    "\n",
    "#Adding raw essay text to the merged data\n",
    "df['text'] = df['id'].apply(get_raw_text)"
   ]
  },
  {
   "cell_type": "code",
   "execution_count": 10,
   "metadata": {
    "execution": {
     "iopub.execute_input": "2022-05-05T20:02:16.994227Z",
     "iopub.status.busy": "2022-05-05T20:02:16.993908Z",
     "iopub.status.idle": "2022-05-05T20:02:17.018941Z",
     "shell.execute_reply": "2022-05-05T20:02:17.017734Z",
     "shell.execute_reply.started": "2022-05-05T20:02:16.994195Z"
    }
   },
   "outputs": [
    {
     "data": {
      "text/html": [
       "<div>\n",
       "<style scoped>\n",
       "    .dataframe tbody tr th:only-of-type {\n",
       "        vertical-align: middle;\n",
       "    }\n",
       "\n",
       "    .dataframe tbody tr th {\n",
       "        vertical-align: top;\n",
       "    }\n",
       "\n",
       "    .dataframe thead th {\n",
       "        text-align: right;\n",
       "    }\n",
       "</style>\n",
       "<table border=\"1\" class=\"dataframe\">\n",
       "  <thead>\n",
       "    <tr style=\"text-align: right;\">\n",
       "      <th></th>\n",
       "      <th>id</th>\n",
       "      <th>classlist</th>\n",
       "      <th>starts</th>\n",
       "      <th>ends</th>\n",
       "      <th>predictionstrings</th>\n",
       "      <th>text</th>\n",
       "    </tr>\n",
       "  </thead>\n",
       "  <tbody>\n",
       "    <tr>\n",
       "      <th>0</th>\n",
       "      <td>0000D23A521A</td>\n",
       "      <td>[Position, Evidence, Evidence, Claim, Counterc...</td>\n",
       "      <td>[0.0, 170.0, 358.0, 438.0, 627.0, 722.0, 836.0...</td>\n",
       "      <td>[170.0, 357.0, 438.0, 626.0, 722.0, 836.0, 101...</td>\n",
       "      <td>[0 1 2 3 4 5 6 7 8 9 10 11 12 13 14 15 16 17 1...</td>\n",
       "      <td>Some people belive that the so called \"face\" o...</td>\n",
       "    </tr>\n",
       "    <tr>\n",
       "      <th>1</th>\n",
       "      <td>00066EA9880D</td>\n",
       "      <td>[Lead, Position, Claim, Evidence, Claim, Evide...</td>\n",
       "      <td>[0.0, 456.0, 638.0, 738.0, 1399.0, 1488.0, 231...</td>\n",
       "      <td>[455.0, 592.0, 738.0, 1398.0, 1487.0, 2219.0, ...</td>\n",
       "      <td>[0 1 2 3 4 5 6 7 8 9 10 11 12 13 14 15 16 17 1...</td>\n",
       "      <td>Driverless cars are exaclty what you would exp...</td>\n",
       "    </tr>\n",
       "    <tr>\n",
       "      <th>2</th>\n",
       "      <td>000E6DE9E817</td>\n",
       "      <td>[Position, Counterclaim, Rebuttal, Evidence, C...</td>\n",
       "      <td>[17.0, 64.0, 158.0, 310.0, 438.0, 551.0, 776.0...</td>\n",
       "      <td>[56.0, 157.0, 309.0, 422.0, 551.0, 775.0, 961....</td>\n",
       "      <td>[2 3 4 5 6 7 8, 10 11 12 13 14 15 16 17 18 19 ...</td>\n",
       "      <td>Dear: Principal\\n\\nI am arguing against the po...</td>\n",
       "    </tr>\n",
       "    <tr>\n",
       "      <th>3</th>\n",
       "      <td>001552828BD0</td>\n",
       "      <td>[Lead, Evidence, Claim, Claim, Evidence, Claim...</td>\n",
       "      <td>[0.0, 161.0, 872.0, 958.0, 1191.0, 1542.0, 161...</td>\n",
       "      <td>[160.0, 872.0, 957.0, 1190.0, 1541.0, 1612.0, ...</td>\n",
       "      <td>[0 1 2 3 4 5 6 7 8 9 10 11 12 13 14 15 16 17 1...</td>\n",
       "      <td>Would you be able to give your car up? Having ...</td>\n",
       "    </tr>\n",
       "    <tr>\n",
       "      <th>4</th>\n",
       "      <td>0016926B079C</td>\n",
       "      <td>[Position, Claim, Claim, Claim, Claim, Evidenc...</td>\n",
       "      <td>[0.0, 58.0, 94.0, 206.0, 236.0, 272.0, 542.0, ...</td>\n",
       "      <td>[57.0, 91.0, 150.0, 235.0, 271.0, 542.0, 650.0...</td>\n",
       "      <td>[0 1 2 3 4 5 6 7 8 9, 10 11 12 13 14 15, 16 17...</td>\n",
       "      <td>I think that students would benefit from learn...</td>\n",
       "    </tr>\n",
       "  </tbody>\n",
       "</table>\n",
       "</div>"
      ],
      "text/plain": [
       "             id                                          classlist  \\\n",
       "0  0000D23A521A  [Position, Evidence, Evidence, Claim, Counterc...   \n",
       "1  00066EA9880D  [Lead, Position, Claim, Evidence, Claim, Evide...   \n",
       "2  000E6DE9E817  [Position, Counterclaim, Rebuttal, Evidence, C...   \n",
       "3  001552828BD0  [Lead, Evidence, Claim, Claim, Evidence, Claim...   \n",
       "4  0016926B079C  [Position, Claim, Claim, Claim, Claim, Evidenc...   \n",
       "\n",
       "                                              starts  \\\n",
       "0  [0.0, 170.0, 358.0, 438.0, 627.0, 722.0, 836.0...   \n",
       "1  [0.0, 456.0, 638.0, 738.0, 1399.0, 1488.0, 231...   \n",
       "2  [17.0, 64.0, 158.0, 310.0, 438.0, 551.0, 776.0...   \n",
       "3  [0.0, 161.0, 872.0, 958.0, 1191.0, 1542.0, 161...   \n",
       "4  [0.0, 58.0, 94.0, 206.0, 236.0, 272.0, 542.0, ...   \n",
       "\n",
       "                                                ends  \\\n",
       "0  [170.0, 357.0, 438.0, 626.0, 722.0, 836.0, 101...   \n",
       "1  [455.0, 592.0, 738.0, 1398.0, 1487.0, 2219.0, ...   \n",
       "2  [56.0, 157.0, 309.0, 422.0, 551.0, 775.0, 961....   \n",
       "3  [160.0, 872.0, 957.0, 1190.0, 1541.0, 1612.0, ...   \n",
       "4  [57.0, 91.0, 150.0, 235.0, 271.0, 542.0, 650.0...   \n",
       "\n",
       "                                   predictionstrings  \\\n",
       "0  [0 1 2 3 4 5 6 7 8 9 10 11 12 13 14 15 16 17 1...   \n",
       "1  [0 1 2 3 4 5 6 7 8 9 10 11 12 13 14 15 16 17 1...   \n",
       "2  [2 3 4 5 6 7 8, 10 11 12 13 14 15 16 17 18 19 ...   \n",
       "3  [0 1 2 3 4 5 6 7 8 9 10 11 12 13 14 15 16 17 1...   \n",
       "4  [0 1 2 3 4 5 6 7 8 9, 10 11 12 13 14 15, 16 17...   \n",
       "\n",
       "                                                text  \n",
       "0  Some people belive that the so called \"face\" o...  \n",
       "1  Driverless cars are exaclty what you would exp...  \n",
       "2  Dear: Principal\\n\\nI am arguing against the po...  \n",
       "3  Would you be able to give your car up? Having ...  \n",
       "4  I think that students would benefit from learn...  "
      ]
     },
     "execution_count": 10,
     "metadata": {},
     "output_type": "execute_result"
    }
   ],
   "source": [
    "#Viewing the merged data\n",
    "df.head()"
   ]
  },
  {
   "cell_type": "code",
   "execution_count": 11,
   "metadata": {
    "execution": {
     "iopub.execute_input": "2022-05-05T20:02:17.022140Z",
     "iopub.status.busy": "2022-05-05T20:02:17.020879Z",
     "iopub.status.idle": "2022-05-05T20:02:17.033523Z",
     "shell.execute_reply": "2022-05-05T20:02:17.032244Z",
     "shell.execute_reply.started": "2022-05-05T20:02:17.022091Z"
    }
   },
   "outputs": [
    {
     "data": {
      "text/plain": [
       "(15594, 6)"
      ]
     },
     "execution_count": 11,
     "metadata": {},
     "output_type": "execute_result"
    }
   ],
   "source": [
    "# Size of the dataset before removing outliers\n",
    "df2=df\n",
    "df.shape"
   ]
  },
  {
   "cell_type": "code",
   "execution_count": 12,
   "metadata": {
    "execution": {
     "iopub.execute_input": "2022-05-05T20:02:17.037844Z",
     "iopub.status.busy": "2022-05-05T20:02:17.037214Z",
     "iopub.status.idle": "2022-05-05T20:02:17.392641Z",
     "shell.execute_reply": "2022-05-05T20:02:17.391550Z",
     "shell.execute_reply.started": "2022-05-05T20:02:17.037791Z"
    }
   },
   "outputs": [],
   "source": [
    "# Removing outliers i.e. essays with more than 5 occurances of the same class are considered as outliers\n",
    "\n",
    "from collections import Counter\n",
    "res = []\n",
    "for i in range(len(df['classlist'])):\n",
    "    temp = df['classlist'][i]\n",
    "    res.append(dict(Counter(temp)))\n",
    "\n",
    "def countOcuurances(res, df2):\n",
    "    df = pd.DataFrame(res)\n",
    "    classes = ['Lead', 'Position', 'Evidence', 'Claim', 'Concluding Statement', 'Counterclaim', 'Rebuttal']\n",
    "    for c in classes:\n",
    "        index = df[df[c]>5].index\n",
    "        df = df.drop(index)\n",
    "        df2 = df2.drop(index)\n",
    "        \n",
    "    return df2\n",
    "\n",
    "df2 = countOcuurances(res,df2)\n",
    "df = df2"
   ]
  },
  {
   "cell_type": "code",
   "execution_count": 13,
   "metadata": {
    "execution": {
     "iopub.execute_input": "2022-05-05T20:02:17.394674Z",
     "iopub.status.busy": "2022-05-05T20:02:17.394280Z",
     "iopub.status.idle": "2022-05-05T20:02:17.402604Z",
     "shell.execute_reply": "2022-05-05T20:02:17.401491Z",
     "shell.execute_reply.started": "2022-05-05T20:02:17.394614Z"
    }
   },
   "outputs": [
    {
     "data": {
      "text/plain": [
       "(12736, 6)"
      ]
     },
     "execution_count": 13,
     "metadata": {},
     "output_type": "execute_result"
    }
   ],
   "source": [
    "#Size of the dataset after removing outliers\n",
    "df.shape"
   ]
  },
  {
   "cell_type": "code",
   "execution_count": 14,
   "metadata": {
    "execution": {
     "iopub.execute_input": "2022-05-05T20:02:17.404904Z",
     "iopub.status.busy": "2022-05-05T20:02:17.404320Z",
     "iopub.status.idle": "2022-05-05T20:02:17.413571Z",
     "shell.execute_reply": "2022-05-05T20:02:17.412411Z",
     "shell.execute_reply.started": "2022-05-05T20:02:17.404838Z"
    }
   },
   "outputs": [],
   "source": [
    "# debugging\n",
    "if SAMPLE: df = df.sample(n=10).reset_index(drop=True)"
   ]
  },
  {
   "cell_type": "code",
   "execution_count": 15,
   "metadata": {
    "execution": {
     "iopub.execute_input": "2022-05-05T20:02:17.415969Z",
     "iopub.status.busy": "2022-05-05T20:02:17.415349Z",
     "iopub.status.idle": "2022-05-05T20:02:17.985969Z",
     "shell.execute_reply": "2022-05-05T20:02:17.984925Z",
     "shell.execute_reply.started": "2022-05-05T20:02:17.415890Z"
    }
   },
   "outputs": [
    {
     "data": {
      "text/plain": [
       "DatasetDict({\n",
       "    train: Dataset({\n",
       "        features: ['id', 'classlist', 'starts', 'ends', 'predictionstrings', 'text', '__index_level_0__'],\n",
       "        num_rows: 11462\n",
       "    })\n",
       "    test: Dataset({\n",
       "        features: ['id', 'classlist', 'starts', 'ends', 'predictionstrings', 'text', '__index_level_0__'],\n",
       "        num_rows: 1274\n",
       "    })\n",
       "})"
      ]
     },
     "execution_count": 15,
     "metadata": {},
     "output_type": "execute_result"
    }
   ],
   "source": [
    "# Performing Train Test split\n",
    "from datasets import Dataset, load_metric\n",
    "\n",
    "ds = Dataset.from_pandas(df)\n",
    "datasets = ds.train_test_split(test_size=0.1, shuffle=True, seed=42)\n",
    "datasets"
   ]
  },
  {
   "cell_type": "code",
   "execution_count": 16,
   "metadata": {
    "execution": {
     "iopub.execute_input": "2022-05-05T20:02:17.988609Z",
     "iopub.status.busy": "2022-05-05T20:02:17.987934Z",
     "iopub.status.idle": "2022-05-05T20:02:23.293776Z",
     "shell.execute_reply": "2022-05-05T20:02:23.292744Z",
     "shell.execute_reply.started": "2022-05-05T20:02:17.988557Z"
    }
   },
   "outputs": [
    {
     "name": "stderr",
     "output_type": "stream",
     "text": [
      "normalizer.cc(51) LOG(INFO) precompiled_charsmap is empty. use identity normalization.\n"
     ]
    }
   ],
   "source": [
    "#Initialing the tokenizer\n",
    "from transformers import AutoTokenizer\n",
    "    \n",
    "tokenizer = AutoTokenizer.from_pretrained(model_checkpoint, add_prefix_space=True)"
   ]
  },
  {
   "cell_type": "code",
   "execution_count": 17,
   "metadata": {
    "execution": {
     "iopub.execute_input": "2022-05-05T20:02:23.296139Z",
     "iopub.status.busy": "2022-05-05T20:02:23.295783Z",
     "iopub.status.idle": "2022-05-05T20:02:23.302836Z",
     "shell.execute_reply": "2022-05-05T20:02:23.301825Z",
     "shell.execute_reply.started": "2022-05-05T20:02:23.296105Z"
    }
   },
   "outputs": [],
   "source": [
    "# If a span is created wihout a starting token for a class\n",
    "# then we convert the first token to be the starting token\n",
    "def fix_beginnings(labels):\n",
    "    for i in range(1,len(labels)):\n",
    "        curr_lab = labels[i]\n",
    "        prev_lab = labels[i-1]\n",
    "        if curr_lab in range(7,14):\n",
    "            if prev_lab != curr_lab and prev_lab != curr_lab - 7:\n",
    "                labels[i] = curr_lab -7\n",
    "    return labels"
   ]
  },
  {
   "cell_type": "code",
   "execution_count": 18,
   "metadata": {
    "execution": {
     "iopub.execute_input": "2022-05-05T20:02:23.311225Z",
     "iopub.status.busy": "2022-05-05T20:02:23.310047Z",
     "iopub.status.idle": "2022-05-05T20:02:23.343822Z",
     "shell.execute_reply": "2022-05-05T20:02:23.342330Z",
     "shell.execute_reply.started": "2022-05-05T20:02:23.311174Z"
    }
   },
   "outputs": [],
   "source": [
    "# tokenizing and adding labels\n",
    "def tokenize_and_align_labels(examples):\n",
    "\n",
    "    o = tokenizer(examples['text'], truncation=True, padding=True, \n",
    "                  return_offsets_mapping=True, max_length=max_length, \n",
    "                  stride=stride, return_overflowing_tokens=True)\n",
    "    #print(o.keys())\n",
    "    sample_mapping = o[\"overflow_to_sample_mapping\"]\n",
    "    offset_mapping = o[\"offset_mapping\"]\n",
    "    \n",
    "    o[\"labels\"] = []\n",
    "\n",
    "    for i in range(len(offset_mapping)):\n",
    "                   \n",
    "        sample_index = sample_mapping[i]\n",
    "\n",
    "        labels = [l2i['O'] for i in range(len(o['input_ids'][i]))]\n",
    "\n",
    "        for label_start, label_end, label in \\\n",
    "        list(zip(examples['starts'][sample_index], examples['ends'][sample_index], examples['classlist'][sample_index])):\n",
    "            for j in range(len(labels)):\n",
    "                token_start = offset_mapping[i][j][0]\n",
    "                token_end = offset_mapping[i][j][1]\n",
    "                if token_start == label_start: \n",
    "                    labels[j] = l2i[f'B-{label}']    \n",
    "                if token_start > label_start and token_end <= label_end: \n",
    "                    labels[j] = l2i[f'I-{label}']\n",
    "\n",
    "        for k, input_id in enumerate(o['input_ids'][i]):\n",
    "            if input_id in [0,1,2]:\n",
    "                labels[k] = -100\n",
    "\n",
    "        labels = fix_beginnings(labels)         \n",
    "        o[\"labels\"].append(labels)\n",
    "        \n",
    "    return o"
   ]
  },
  {
   "cell_type": "code",
   "execution_count": 19,
   "metadata": {
    "execution": {
     "iopub.execute_input": "2022-05-05T20:02:23.351318Z",
     "iopub.status.busy": "2022-05-05T20:02:23.349328Z",
     "iopub.status.idle": "2022-05-05T20:05:55.802653Z",
     "shell.execute_reply": "2022-05-05T20:05:55.801328Z",
     "shell.execute_reply.started": "2022-05-05T20:02:23.351281Z"
    }
   },
   "outputs": [
    {
     "data": {
      "application/vnd.jupyter.widget-view+json": {
       "model_id": "82325c8a76fe44168ae77f78d1697700",
       "version_major": 2,
       "version_minor": 0
      },
      "text/plain": [
       "  0%|          | 0/1 [00:00<?, ?ba/s]"
      ]
     },
     "metadata": {},
     "output_type": "display_data"
    },
    {
     "data": {
      "application/vnd.jupyter.widget-view+json": {
       "model_id": "1407497e4de84cccaf6d0239b849fa6c",
       "version_major": 2,
       "version_minor": 0
      },
      "text/plain": [
       "  0%|          | 0/1 [00:00<?, ?ba/s]"
      ]
     },
     "metadata": {},
     "output_type": "display_data"
    }
   ],
   "source": [
    "# Tokenising both train and test\n",
    "tokenized_datasets = datasets.map(tokenize_and_align_labels, batched=True, \\\n",
    "                                  batch_size=20000, \n",
    "                                  remove_columns=datasets[\"train\"].column_names)"
   ]
  },
  {
   "cell_type": "code",
   "execution_count": 20,
   "metadata": {
    "execution": {
     "iopub.execute_input": "2022-05-05T20:05:55.805097Z",
     "iopub.status.busy": "2022-05-05T20:05:55.804656Z",
     "iopub.status.idle": "2022-05-05T20:05:55.813539Z",
     "shell.execute_reply": "2022-05-05T20:05:55.812441Z",
     "shell.execute_reply.started": "2022-05-05T20:05:55.805049Z"
    }
   },
   "outputs": [
    {
     "data": {
      "text/plain": [
       "DatasetDict({\n",
       "    train: Dataset({\n",
       "        features: ['attention_mask', 'input_ids', 'labels', 'offset_mapping', 'overflow_to_sample_mapping'],\n",
       "        num_rows: 11727\n",
       "    })\n",
       "    test: Dataset({\n",
       "        features: ['attention_mask', 'input_ids', 'labels', 'offset_mapping', 'overflow_to_sample_mapping'],\n",
       "        num_rows: 1301\n",
       "    })\n",
       "})"
      ]
     },
     "execution_count": 20,
     "metadata": {},
     "output_type": "execute_result"
    }
   ],
   "source": [
    "tokenized_datasets"
   ]
  },
  {
   "cell_type": "markdown",
   "metadata": {},
   "source": [
    "## Model and Training"
   ]
  },
  {
   "cell_type": "code",
   "execution_count": 21,
   "metadata": {
    "execution": {
     "iopub.execute_input": "2022-05-05T20:05:55.816365Z",
     "iopub.status.busy": "2022-05-05T20:05:55.815252Z",
     "iopub.status.idle": "2022-05-05T20:05:58.580480Z",
     "shell.execute_reply": "2022-05-05T20:05:58.579403Z",
     "shell.execute_reply.started": "2022-05-05T20:05:55.816315Z"
    }
   },
   "outputs": [
    {
     "name": "stderr",
     "output_type": "stream",
     "text": [
      "Some weights of the model checkpoint at google/bigbird-roberta-base were not used when initializing BigBirdForTokenClassification: ['cls.predictions.transform.LayerNorm.weight', 'cls.predictions.bias', 'cls.predictions.transform.LayerNorm.bias', 'cls.seq_relationship.bias', 'cls.predictions.decoder.weight', 'cls.predictions.transform.dense.bias', 'cls.predictions.decoder.bias', 'cls.seq_relationship.weight', 'cls.predictions.transform.dense.weight']\n",
      "- This IS expected if you are initializing BigBirdForTokenClassification from the checkpoint of a model trained on another task or with another architecture (e.g. initializing a BertForSequenceClassification model from a BertForPreTraining model).\n",
      "- This IS NOT expected if you are initializing BigBirdForTokenClassification from the checkpoint of a model that you expect to be exactly identical (initializing a BertForSequenceClassification model from a BertForSequenceClassification model).\n",
      "Some weights of BigBirdForTokenClassification were not initialized from the model checkpoint at google/bigbird-roberta-base and are newly initialized: ['classifier.bias', 'classifier.weight']\n",
      "You should probably TRAIN this model on a down-stream task to be able to use it for predictions and inference.\n"
     ]
    }
   ],
   "source": [
    "from transformers import AutoModelForTokenClassification, TrainingArguments, Trainer\n",
    "\n",
    "model = AutoModelForTokenClassification.from_pretrained(model_checkpoint, num_labels=N_LABELS)"
   ]
  },
  {
   "cell_type": "code",
   "execution_count": 22,
   "metadata": {
    "execution": {
     "iopub.execute_input": "2022-05-05T20:05:58.582766Z",
     "iopub.status.busy": "2022-05-05T20:05:58.582146Z",
     "iopub.status.idle": "2022-05-05T20:05:58.587519Z",
     "shell.execute_reply": "2022-05-05T20:05:58.586414Z",
     "shell.execute_reply.started": "2022-05-05T20:05:58.582728Z"
    }
   },
   "outputs": [],
   "source": [
    "#print(model)"
   ]
  },
  {
   "cell_type": "code",
   "execution_count": 23,
   "metadata": {
    "execution": {
     "iopub.execute_input": "2022-05-05T20:05:58.589648Z",
     "iopub.status.busy": "2022-05-05T20:05:58.589039Z",
     "iopub.status.idle": "2022-05-05T20:05:58.603610Z",
     "shell.execute_reply": "2022-05-05T20:05:58.602374Z",
     "shell.execute_reply.started": "2022-05-05T20:05:58.589595Z"
    }
   },
   "outputs": [],
   "source": [
    "model_name = model_checkpoint.split(\"/\")[-1]\n",
    "args = TrainingArguments(\n",
    "    f\"{model_name}-finetuned-{task}\",\n",
    "    evaluation_strategy = \"epoch\",\n",
    "    logging_strategy = \"epoch\",\n",
    "    save_strategy = \"epoch\",\n",
    "    learning_rate=LR,\n",
    "    per_device_train_batch_size=BS,\n",
    "    per_device_eval_batch_size=BS,\n",
    "    num_train_epochs=N_EPOCHS,\n",
    "    weight_decay=WD,\n",
    "    report_to='wandb', \n",
    "    gradient_accumulation_steps=GRAD_ACC,\n",
    "    warmup_ratio=WARMUP\n",
    ")"
   ]
  },
  {
   "cell_type": "code",
   "execution_count": 24,
   "metadata": {
    "execution": {
     "iopub.execute_input": "2022-05-05T20:05:58.606340Z",
     "iopub.status.busy": "2022-05-05T20:05:58.605562Z",
     "iopub.status.idle": "2022-05-05T20:05:58.615134Z",
     "shell.execute_reply": "2022-05-05T20:05:58.613935Z",
     "shell.execute_reply.started": "2022-05-05T20:05:58.606284Z"
    }
   },
   "outputs": [],
   "source": [
    "from transformers import DataCollatorForTokenClassification\n",
    "\n",
    "data_collator = DataCollatorForTokenClassification(tokenizer)"
   ]
  },
  {
   "cell_type": "code",
   "execution_count": 25,
   "metadata": {
    "execution": {
     "iopub.execute_input": "2022-05-05T20:05:58.617072Z",
     "iopub.status.busy": "2022-05-05T20:05:58.616637Z",
     "iopub.status.idle": "2022-05-05T20:05:59.434960Z",
     "shell.execute_reply": "2022-05-05T20:05:59.433964Z",
     "shell.execute_reply.started": "2022-05-05T20:05:58.616992Z"
    }
   },
   "outputs": [],
   "source": [
    "# Loading Metric\n",
    "metric = load_metric(\"seqeval\")"
   ]
  },
  {
   "cell_type": "code",
   "execution_count": 26,
   "metadata": {
    "execution": {
     "iopub.execute_input": "2022-05-05T20:05:59.437332Z",
     "iopub.status.busy": "2022-05-05T20:05:59.436779Z",
     "iopub.status.idle": "2022-05-05T20:05:59.447866Z",
     "shell.execute_reply": "2022-05-05T20:05:59.446764Z",
     "shell.execute_reply.started": "2022-05-05T20:05:59.437283Z"
    }
   },
   "outputs": [],
   "source": [
    "import numpy as np\n",
    "\n",
    "def compute_metrics(p):\n",
    "    predictions, labels = p\n",
    "    predictions = np.argmax(predictions, axis=2)\n",
    "\n",
    "    # Remove special tokens\n",
    "    true_predictions = [\n",
    "        [i2l[p] for (p, l) in zip(prediction, label) if l != -100]\n",
    "        for prediction, label in zip(predictions, labels)\n",
    "    ]\n",
    "    true_labels = [\n",
    "        [i2l[l] for (p, l) in zip(prediction, label) if l != -100]\n",
    "        for prediction, label in zip(predictions, labels)\n",
    "    ]\n",
    "\n",
    "    results = metric.compute(predictions=true_predictions, references=true_labels)\n",
    "    return {\n",
    "        \"precision\": results[\"overall_precision\"],\n",
    "        \"recall\": results[\"overall_recall\"],\n",
    "        \"f1\": results[\"overall_f1\"],\n",
    "        \"accuracy\": results[\"overall_accuracy\"],\n",
    "    }"
   ]
  },
  {
   "cell_type": "code",
   "execution_count": 27,
   "metadata": {
    "execution": {
     "iopub.execute_input": "2022-05-05T20:05:59.450667Z",
     "iopub.status.busy": "2022-05-05T20:05:59.449609Z",
     "iopub.status.idle": "2022-05-05T20:06:04.160062Z",
     "shell.execute_reply": "2022-05-05T20:06:04.158949Z",
     "shell.execute_reply.started": "2022-05-05T20:05:59.450603Z"
    }
   },
   "outputs": [],
   "source": [
    "trainer = Trainer(\n",
    "    model,\n",
    "    args,\n",
    "    train_dataset=tokenized_datasets[\"train\"],\n",
    "    eval_dataset=tokenized_datasets[\"test\"],\n",
    "    data_collator=data_collator,\n",
    "    tokenizer=tokenizer,\n",
    "    compute_metrics=compute_metrics, \n",
    ")"
   ]
  },
  {
   "cell_type": "code",
   "execution_count": 28,
   "metadata": {
    "execution": {
     "iopub.execute_input": "2022-05-05T20:06:04.162030Z",
     "iopub.status.busy": "2022-05-05T20:06:04.161728Z",
     "iopub.status.idle": "2022-05-05T20:06:04.166990Z",
     "shell.execute_reply": "2022-05-05T20:06:04.165965Z",
     "shell.execute_reply.started": "2022-05-05T20:06:04.161987Z"
    }
   },
   "outputs": [],
   "source": [
    "import os\n",
    "os.environ[\"WANDB_DISABLED\"] = \"true\""
   ]
  },
  {
   "cell_type": "code",
   "execution_count": 29,
   "metadata": {
    "execution": {
     "iopub.execute_input": "2022-05-05T20:06:04.169541Z",
     "iopub.status.busy": "2022-05-05T20:06:04.168884Z",
     "iopub.status.idle": "2022-05-05T23:46:24.657252Z",
     "shell.execute_reply": "2022-05-05T23:46:24.656261Z",
     "shell.execute_reply.started": "2022-05-05T20:06:04.169491Z"
    }
   },
   "outputs": [
    {
     "name": "stderr",
     "output_type": "stream",
     "text": [
      "The following columns in the training set  don't have a corresponding argument in `BigBirdForTokenClassification.forward` and have been ignored: overflow_to_sample_mapping, offset_mapping.\n",
      "***** Running training *****\n",
      "  Num examples = 11727\n",
      "  Num Epochs = 5\n",
      "  Instantaneous batch size per device = 4\n",
      "  Total train batch size (w. parallel, distributed & accumulation) = 32\n",
      "  Gradient Accumulation steps = 8\n",
      "  Total optimization steps = 1830\n",
      "Automatic Weights & Biases logging enabled, to disable set os.environ[\"WANDB_DISABLED\"] = \"true\"\n"
     ]
    },
    {
     "name": "stdout",
     "output_type": "stream",
     "text": [
      "huggingface/tokenizers: The current process just got forked, after parallelism has already been used. Disabling parallelism to avoid deadlocks...\n",
      "To disable this warning, you can either:\n",
      "\t- Avoid using `tokenizers` before the fork if possible\n",
      "\t- Explicitly set the environment variable TOKENIZERS_PARALLELISM=(true | false)\n",
      "huggingface/tokenizers: The current process just got forked, after parallelism has already been used. Disabling parallelism to avoid deadlocks...\n",
      "To disable this warning, you can either:\n",
      "\t- Avoid using `tokenizers` before the fork if possible\n",
      "\t- Explicitly set the environment variable TOKENIZERS_PARALLELISM=(true | false)\n"
     ]
    },
    {
     "data": {
      "text/html": [
       "Tracking run with wandb version 0.12.16"
      ],
      "text/plain": [
       "<IPython.core.display.HTML object>"
      ]
     },
     "metadata": {},
     "output_type": "display_data"
    },
    {
     "data": {
      "text/html": [
       "W&B syncing is set to <code>`offline`<code> in this directory.  <br/>Run <code>`wandb online`<code> or set <code>WANDB_MODE=online<code> to enable cloud syncing."
      ],
      "text/plain": [
       "<IPython.core.display.HTML object>"
      ]
     },
     "metadata": {},
     "output_type": "display_data"
    },
    {
     "data": {
      "text/html": [
       "\n",
       "    <div>\n",
       "      \n",
       "      <progress value='1830' max='1830' style='width:300px; height:20px; vertical-align: middle;'></progress>\n",
       "      [1830/1830 3:40:01, Epoch 4/5]\n",
       "    </div>\n",
       "    <table border=\"1\" class=\"dataframe\">\n",
       "  <thead>\n",
       "    <tr style=\"text-align: left;\">\n",
       "      <th>Epoch</th>\n",
       "      <th>Training Loss</th>\n",
       "      <th>Validation Loss</th>\n",
       "      <th>Precision</th>\n",
       "      <th>Recall</th>\n",
       "      <th>F1</th>\n",
       "      <th>Accuracy</th>\n",
       "    </tr>\n",
       "  </thead>\n",
       "  <tbody>\n",
       "    <tr>\n",
       "      <td>0</td>\n",
       "      <td>1.087800</td>\n",
       "      <td>0.689825</td>\n",
       "      <td>0.206134</td>\n",
       "      <td>0.336801</td>\n",
       "      <td>0.255744</td>\n",
       "      <td>0.778607</td>\n",
       "    </tr>\n",
       "    <tr>\n",
       "      <td>1</td>\n",
       "      <td>0.640200</td>\n",
       "      <td>0.635552</td>\n",
       "      <td>0.235993</td>\n",
       "      <td>0.386356</td>\n",
       "      <td>0.293011</td>\n",
       "      <td>0.792288</td>\n",
       "    </tr>\n",
       "    <tr>\n",
       "      <td>2</td>\n",
       "      <td>0.530500</td>\n",
       "      <td>0.623517</td>\n",
       "      <td>0.238571</td>\n",
       "      <td>0.396204</td>\n",
       "      <td>0.297815</td>\n",
       "      <td>0.795563</td>\n",
       "    </tr>\n",
       "    <tr>\n",
       "      <td>3</td>\n",
       "      <td>0.445400</td>\n",
       "      <td>0.660478</td>\n",
       "      <td>0.259748</td>\n",
       "      <td>0.414231</td>\n",
       "      <td>0.319285</td>\n",
       "      <td>0.795294</td>\n",
       "    </tr>\n",
       "    <tr>\n",
       "      <td>4</td>\n",
       "      <td>0.380900</td>\n",
       "      <td>0.679613</td>\n",
       "      <td>0.246262</td>\n",
       "      <td>0.406766</td>\n",
       "      <td>0.306789</td>\n",
       "      <td>0.790095</td>\n",
       "    </tr>\n",
       "  </tbody>\n",
       "</table><p>"
      ],
      "text/plain": [
       "<IPython.core.display.HTML object>"
      ]
     },
     "metadata": {},
     "output_type": "display_data"
    },
    {
     "name": "stderr",
     "output_type": "stream",
     "text": [
      "The following columns in the evaluation set  don't have a corresponding argument in `BigBirdForTokenClassification.forward` and have been ignored: overflow_to_sample_mapping, offset_mapping.\n",
      "***** Running Evaluation *****\n",
      "  Num examples = 1301\n",
      "  Batch size = 4\n",
      "Saving model checkpoint to bigbird-roberta-base-finetuned-ner/checkpoint-366\n",
      "Configuration saved in bigbird-roberta-base-finetuned-ner/checkpoint-366/config.json\n",
      "Model weights saved in bigbird-roberta-base-finetuned-ner/checkpoint-366/pytorch_model.bin\n",
      "tokenizer config file saved in bigbird-roberta-base-finetuned-ner/checkpoint-366/tokenizer_config.json\n",
      "Special tokens file saved in bigbird-roberta-base-finetuned-ner/checkpoint-366/special_tokens_map.json\n",
      "The following columns in the evaluation set  don't have a corresponding argument in `BigBirdForTokenClassification.forward` and have been ignored: overflow_to_sample_mapping, offset_mapping.\n",
      "***** Running Evaluation *****\n",
      "  Num examples = 1301\n",
      "  Batch size = 4\n",
      "Saving model checkpoint to bigbird-roberta-base-finetuned-ner/checkpoint-732\n",
      "Configuration saved in bigbird-roberta-base-finetuned-ner/checkpoint-732/config.json\n",
      "Model weights saved in bigbird-roberta-base-finetuned-ner/checkpoint-732/pytorch_model.bin\n",
      "tokenizer config file saved in bigbird-roberta-base-finetuned-ner/checkpoint-732/tokenizer_config.json\n",
      "Special tokens file saved in bigbird-roberta-base-finetuned-ner/checkpoint-732/special_tokens_map.json\n",
      "The following columns in the evaluation set  don't have a corresponding argument in `BigBirdForTokenClassification.forward` and have been ignored: overflow_to_sample_mapping, offset_mapping.\n",
      "***** Running Evaluation *****\n",
      "  Num examples = 1301\n",
      "  Batch size = 4\n",
      "Saving model checkpoint to bigbird-roberta-base-finetuned-ner/checkpoint-1098\n",
      "Configuration saved in bigbird-roberta-base-finetuned-ner/checkpoint-1098/config.json\n",
      "Model weights saved in bigbird-roberta-base-finetuned-ner/checkpoint-1098/pytorch_model.bin\n",
      "tokenizer config file saved in bigbird-roberta-base-finetuned-ner/checkpoint-1098/tokenizer_config.json\n",
      "Special tokens file saved in bigbird-roberta-base-finetuned-ner/checkpoint-1098/special_tokens_map.json\n",
      "The following columns in the evaluation set  don't have a corresponding argument in `BigBirdForTokenClassification.forward` and have been ignored: overflow_to_sample_mapping, offset_mapping.\n",
      "***** Running Evaluation *****\n",
      "  Num examples = 1301\n",
      "  Batch size = 4\n",
      "Saving model checkpoint to bigbird-roberta-base-finetuned-ner/checkpoint-1464\n",
      "Configuration saved in bigbird-roberta-base-finetuned-ner/checkpoint-1464/config.json\n",
      "Model weights saved in bigbird-roberta-base-finetuned-ner/checkpoint-1464/pytorch_model.bin\n",
      "tokenizer config file saved in bigbird-roberta-base-finetuned-ner/checkpoint-1464/tokenizer_config.json\n",
      "Special tokens file saved in bigbird-roberta-base-finetuned-ner/checkpoint-1464/special_tokens_map.json\n",
      "The following columns in the evaluation set  don't have a corresponding argument in `BigBirdForTokenClassification.forward` and have been ignored: overflow_to_sample_mapping, offset_mapping.\n",
      "***** Running Evaluation *****\n",
      "  Num examples = 1301\n",
      "  Batch size = 4\n",
      "Saving model checkpoint to bigbird-roberta-base-finetuned-ner/checkpoint-1830\n",
      "Configuration saved in bigbird-roberta-base-finetuned-ner/checkpoint-1830/config.json\n",
      "Model weights saved in bigbird-roberta-base-finetuned-ner/checkpoint-1830/pytorch_model.bin\n",
      "tokenizer config file saved in bigbird-roberta-base-finetuned-ner/checkpoint-1830/tokenizer_config.json\n",
      "Special tokens file saved in bigbird-roberta-base-finetuned-ner/checkpoint-1830/special_tokens_map.json\n",
      "\n",
      "\n",
      "Training completed. Do not forget to share your model on huggingface.co/models =)\n",
      "\n",
      "\n"
     ]
    },
    {
     "data": {
      "text/html": [
       "Waiting for W&B process to finish... <strong style=\"color:green\">(success).</strong>"
      ],
      "text/plain": [
       "<IPython.core.display.HTML object>"
      ]
     },
     "metadata": {},
     "output_type": "display_data"
    },
    {
     "data": {
      "application/vnd.jupyter.widget-view+json": {
       "model_id": "",
       "version_major": 2,
       "version_minor": 0
      },
      "text/plain": [
       "VBox(children=(Label(value='0.000 MB of 0.000 MB uploaded (0.000 MB deduped)\\r'), FloatProgress(value=1.0, max…"
      ]
     },
     "metadata": {},
     "output_type": "display_data"
    },
    {
     "data": {
      "text/html": [
       "<style>\n",
       "    table.wandb td:nth-child(1) { padding: 0 10px; text-align: left ; width: auto;} td:nth-child(2) {text-align: left ; width: 100%}\n",
       "    .wandb-row { display: flex; flex-direction: row; flex-wrap: wrap; justify-content: flex-start; width: 100% }\n",
       "    .wandb-col { display: flex; flex-direction: column; flex-basis: 100%; flex: 1; padding: 10px; }\n",
       "    </style>\n",
       "<div class=\"wandb-row\"><div class=\"wandb-col\"><h3>Run history:</h3><br/><table class=\"wandb\"><tr><td>eval/accuracy</td><td>▁▇██▆</td></tr><tr><td>eval/f1</td><td>▁▅▆█▇</td></tr><tr><td>eval/loss</td><td>█▂▁▅▇</td></tr><tr><td>eval/precision</td><td>▁▅▅█▆</td></tr><tr><td>eval/recall</td><td>▁▅▆█▇</td></tr><tr><td>eval/runtime</td><td>█▄▂▁▁</td></tr><tr><td>eval/samples_per_second</td><td>▁▅▇██</td></tr><tr><td>eval/steps_per_second</td><td>▁▅▇▇█</td></tr><tr><td>train/epoch</td><td>▁▁▃▃▅▅▆▆███</td></tr><tr><td>train/global_step</td><td>▁▁▃▃▅▅▆▆███</td></tr><tr><td>train/learning_rate</td><td>█▆▅▃▁</td></tr><tr><td>train/loss</td><td>█▄▂▂▁</td></tr><tr><td>train/total_flos</td><td>▁</td></tr><tr><td>train/train_loss</td><td>▁</td></tr><tr><td>train/train_runtime</td><td>▁</td></tr><tr><td>train/train_samples_per_second</td><td>▁</td></tr><tr><td>train/train_steps_per_second</td><td>▁</td></tr></table><br/></div><div class=\"wandb-col\"><h3>Run summary:</h3><br/><table class=\"wandb\"><tr><td>eval/accuracy</td><td>0.79009</td></tr><tr><td>eval/f1</td><td>0.30679</td></tr><tr><td>eval/loss</td><td>0.67961</td></tr><tr><td>eval/precision</td><td>0.24626</td></tr><tr><td>eval/recall</td><td>0.40677</td></tr><tr><td>eval/runtime</td><td>106.2539</td></tr><tr><td>eval/samples_per_second</td><td>12.244</td></tr><tr><td>eval/steps_per_second</td><td>3.068</td></tr><tr><td>train/epoch</td><td>5.0</td></tr><tr><td>train/global_step</td><td>1830</td></tr><tr><td>train/learning_rate</td><td>0.0</td></tr><tr><td>train/loss</td><td>0.3809</td></tr><tr><td>train/total_flos</td><td>3.085074066272256e+16</td></tr><tr><td>train/train_loss</td><td>0.61696</td></tr><tr><td>train/train_runtime</td><td>13215.7603</td></tr><tr><td>train/train_samples_per_second</td><td>4.437</td></tr><tr><td>train/train_steps_per_second</td><td>0.138</td></tr></table><br/></div></div>"
      ],
      "text/plain": [
       "<IPython.core.display.HTML object>"
      ]
     },
     "metadata": {},
     "output_type": "display_data"
    },
    {
     "data": {
      "text/html": [
       "You can sync this run to the cloud by running:<br/><code>wandb sync /kaggle/working/wandb/offline-run-20220505_200605-2z3tg5g8<code>"
      ],
      "text/plain": [
       "<IPython.core.display.HTML object>"
      ]
     },
     "metadata": {},
     "output_type": "display_data"
    },
    {
     "data": {
      "text/html": [
       "Find logs at: <code>./wandb/offline-run-20220505_200605-2z3tg5g8/logs</code>"
      ],
      "text/plain": [
       "<IPython.core.display.HTML object>"
      ]
     },
     "metadata": {},
     "output_type": "display_data"
    }
   ],
   "source": [
    "trainer.train()\n",
    "wandb.finish()"
   ]
  },
  {
   "cell_type": "code",
   "execution_count": 30,
   "metadata": {
    "execution": {
     "iopub.execute_input": "2022-05-05T23:46:24.659570Z",
     "iopub.status.busy": "2022-05-05T23:46:24.659248Z",
     "iopub.status.idle": "2022-05-05T23:46:25.879343Z",
     "shell.execute_reply": "2022-05-05T23:46:25.878201Z",
     "shell.execute_reply.started": "2022-05-05T23:46:24.659520Z"
    }
   },
   "outputs": [
    {
     "name": "stderr",
     "output_type": "stream",
     "text": [
      "Saving model checkpoint to bigbird-roberta-base-4\n",
      "Configuration saved in bigbird-roberta-base-4/config.json\n",
      "Model weights saved in bigbird-roberta-base-4/pytorch_model.bin\n",
      "tokenizer config file saved in bigbird-roberta-base-4/tokenizer_config.json\n",
      "Special tokens file saved in bigbird-roberta-base-4/special_tokens_map.json\n"
     ]
    }
   ],
   "source": [
    "trainer.save_model(model_path)"
   ]
  },
  {
   "cell_type": "markdown",
   "metadata": {},
   "source": [
    "## Test Data"
   ]
  },
  {
   "cell_type": "code",
   "execution_count": 31,
   "metadata": {
    "execution": {
     "iopub.execute_input": "2022-05-05T23:46:25.881585Z",
     "iopub.status.busy": "2022-05-05T23:46:25.881042Z",
     "iopub.status.idle": "2022-05-05T23:46:25.897424Z",
     "shell.execute_reply": "2022-05-05T23:46:25.896247Z",
     "shell.execute_reply.started": "2022-05-05T23:46:25.881541Z"
    }
   },
   "outputs": [],
   "source": [
    "def tokenize_for_test(examples):\n",
    "\n",
    "    o = tokenizer(examples['text'], truncation=True, return_offsets_mapping=True, max_length=4096)\n",
    "\n",
    "    offset_mapping = o[\"offset_mapping\"]\n",
    "    \n",
    "    o[\"labels\"] = []\n",
    "\n",
    "    for i in range(len(offset_mapping)):\n",
    "                   \n",
    "        labels = [l2i['O'] for i in range(len(o['input_ids'][i]))]\n",
    "\n",
    "        for label_start, label_end, label in \\\n",
    "        list(zip(examples['starts'][i], examples['ends'][i], examples['classlist'][i])):\n",
    "            for j in range(len(labels)):\n",
    "                token_start = offset_mapping[i][j][0]\n",
    "                token_end = offset_mapping[i][j][1]\n",
    "                if token_start == label_start: \n",
    "                    labels[j] = l2i[f'B-{label}']    \n",
    "                if token_start > label_start and token_end <= label_end: \n",
    "                    labels[j] = l2i[f'I-{label}']\n",
    "\n",
    "        for k, input_id in enumerate(o['input_ids'][i]):\n",
    "            if input_id in [0,1,2]:\n",
    "                labels[k] = -100\n",
    "\n",
    "        labels = fix_beginnings(labels)\n",
    "                   \n",
    "        o[\"labels\"].append(labels)\n",
    "        \n",
    "    return o"
   ]
  },
  {
   "cell_type": "code",
   "execution_count": 32,
   "metadata": {
    "execution": {
     "iopub.execute_input": "2022-05-05T23:46:25.899262Z",
     "iopub.status.busy": "2022-05-05T23:46:25.898712Z",
     "iopub.status.idle": "2022-05-05T23:48:03.774132Z",
     "shell.execute_reply": "2022-05-05T23:48:03.773156Z",
     "shell.execute_reply.started": "2022-05-05T23:46:25.899220Z"
    }
   },
   "outputs": [
    {
     "data": {
      "application/vnd.jupyter.widget-view+json": {
       "model_id": "685b8e758e684472a46e71423fc1bfc2",
       "version_major": 2,
       "version_minor": 0
      },
      "text/plain": [
       "  0%|          | 0/12 [00:00<?, ?ba/s]"
      ]
     },
     "metadata": {},
     "output_type": "display_data"
    },
    {
     "data": {
      "application/vnd.jupyter.widget-view+json": {
       "model_id": "fc2a406170eb415bb425b742c6577988",
       "version_major": 2,
       "version_minor": 0
      },
      "text/plain": [
       "  0%|          | 0/2 [00:00<?, ?ba/s]"
      ]
     },
     "metadata": {},
     "output_type": "display_data"
    },
    {
     "data": {
      "text/plain": [
       "DatasetDict({\n",
       "    train: Dataset({\n",
       "        features: ['__index_level_0__', 'attention_mask', 'classlist', 'ends', 'id', 'input_ids', 'labels', 'offset_mapping', 'predictionstrings', 'starts', 'text'],\n",
       "        num_rows: 11462\n",
       "    })\n",
       "    test: Dataset({\n",
       "        features: ['__index_level_0__', 'attention_mask', 'classlist', 'ends', 'id', 'input_ids', 'labels', 'offset_mapping', 'predictionstrings', 'starts', 'text'],\n",
       "        num_rows: 1274\n",
       "    })\n",
       "})"
      ]
     },
     "execution_count": 32,
     "metadata": {},
     "output_type": "execute_result"
    }
   ],
   "source": [
    "tokenized_test = datasets.map(tokenize_for_test, batched=True)\n",
    "tokenized_test"
   ]
  },
  {
   "cell_type": "code",
   "execution_count": 33,
   "metadata": {
    "execution": {
     "iopub.execute_input": "2022-05-05T23:48:03.776370Z",
     "iopub.status.busy": "2022-05-05T23:48:03.775809Z",
     "iopub.status.idle": "2022-05-05T23:48:07.390356Z",
     "shell.execute_reply": "2022-05-05T23:48:07.389382Z",
     "shell.execute_reply.started": "2022-05-05T23:48:03.776313Z"
    }
   },
   "outputs": [],
   "source": [
    "# ground truth for test data\n",
    "\n",
    "l = []\n",
    "for example in tokenized_test['test']:\n",
    "    for c, p in list(zip(example['classlist'], example['predictionstrings'])):\n",
    "        l.append({\n",
    "            'id': example['id'],\n",
    "            'discourse_type': c,\n",
    "            'predictionstring': p,\n",
    "        })\n",
    "    \n",
    "gt_df = pd.DataFrame(l)"
   ]
  },
  {
   "cell_type": "code",
   "execution_count": 34,
   "metadata": {
    "execution": {
     "iopub.execute_input": "2022-05-05T23:48:07.392355Z",
     "iopub.status.busy": "2022-05-05T23:48:07.392016Z",
     "iopub.status.idle": "2022-05-05T23:48:07.403508Z",
     "shell.execute_reply": "2022-05-05T23:48:07.402109Z",
     "shell.execute_reply.started": "2022-05-05T23:48:07.392312Z"
    }
   },
   "outputs": [],
   "source": [
    "path = Path('../input/feedback-prize-2021/train')\n",
    "\n",
    "colors = {\n",
    "            'Lead': '#8000ff',\n",
    "            'Position': '#2b7ff6',\n",
    "            'Evidence': '#2adddd',\n",
    "            'Claim': '#80ffb4',\n",
    "            'Concluding Statement': 'd4dd80',\n",
    "            'Counterclaim': '#ff8042',\n",
    "            'Rebuttal': '#ff0000',\n",
    "            'Other': '#007f00',\n",
    "         }\n",
    "\n",
    "def visualize(df, text):\n",
    "    ents = []\n",
    "    example = df['id'].loc[0]\n",
    "\n",
    "    for i, row in df.iterrows():\n",
    "        ents.append({\n",
    "                        'start': int(row['discourse_start']), \n",
    "                         'end': int(row['discourse_end']), \n",
    "                         'label': row['discourse_type']\n",
    "                    })\n",
    "\n",
    "    doc2 = {\n",
    "        \"text\": text,\n",
    "        \"ents\": ents,\n",
    "        \"title\": example\n",
    "    }\n",
    "\n",
    "    options = {\"ents\": train.discourse_type.unique().tolist() + ['Other'], \"colors\": colors}\n",
    "    displacy.render(doc2, style=\"ent\", options=options, manual=True, jupyter=True)"
   ]
  },
  {
   "cell_type": "code",
   "execution_count": 35,
   "metadata": {
    "execution": {
     "iopub.execute_input": "2022-05-05T23:48:07.406156Z",
     "iopub.status.busy": "2022-05-05T23:48:07.405423Z",
     "iopub.status.idle": "2022-05-05T23:49:16.000729Z",
     "shell.execute_reply": "2022-05-05T23:49:15.999744Z",
     "shell.execute_reply.started": "2022-05-05T23:48:07.406072Z"
    }
   },
   "outputs": [
    {
     "name": "stderr",
     "output_type": "stream",
     "text": [
      "The following columns in the test set  don't have a corresponding argument in `BigBirdForTokenClassification.forward` and have been ignored: predictionstrings, offset_mapping, __index_level_0__, text, starts, ends, id, classlist.\n",
      "***** Running Prediction *****\n",
      "  Num examples = 1274\n",
      "  Batch size = 4\n",
      "Attention type 'block_sparse' is not possible if sequence_length: 458 <= num global tokens: 2 * config.block_size + min. num sliding tokens: 3 * config.block_size + config.num_random_blocks * config.block_size + additional buffer: config.num_random_blocks * config.block_size = 704 with config.block_size = 64, config.num_random_blocks = 3. Changing attention type to 'original_full'...\n"
     ]
    },
    {
     "data": {
      "text/html": [
       "\n",
       "    <div>\n",
       "      \n",
       "      <progress value='319' max='319' style='width:300px; height:20px; vertical-align: middle;'></progress>\n",
       "      [319/319 00:45]\n",
       "    </div>\n",
       "    "
      ],
      "text/plain": [
       "<IPython.core.display.HTML object>"
      ]
     },
     "metadata": {},
     "output_type": "display_data"
    }
   ],
   "source": [
    "predictions, labels, _ = trainer.predict(tokenized_test['test'])"
   ]
  },
  {
   "cell_type": "code",
   "execution_count": 36,
   "metadata": {
    "execution": {
     "iopub.execute_input": "2022-05-05T23:49:16.006610Z",
     "iopub.status.busy": "2022-05-05T23:49:16.006383Z",
     "iopub.status.idle": "2022-05-05T23:49:16.060621Z",
     "shell.execute_reply": "2022-05-05T23:49:16.059521Z",
     "shell.execute_reply.started": "2022-05-05T23:49:16.006581Z"
    }
   },
   "outputs": [
    {
     "data": {
      "text/plain": [
       "(1274, 1925)"
      ]
     },
     "execution_count": 36,
     "metadata": {},
     "output_type": "execute_result"
    }
   ],
   "source": [
    "preds = np.argmax(predictions, axis=-1)\n",
    "preds.shape"
   ]
  },
  {
   "cell_type": "code",
   "execution_count": 37,
   "metadata": {
    "execution": {
     "iopub.execute_input": "2022-05-05T23:49:16.063120Z",
     "iopub.status.busy": "2022-05-05T23:49:16.062653Z",
     "iopub.status.idle": "2022-05-05T23:49:16.080857Z",
     "shell.execute_reply": "2022-05-05T23:49:16.079742Z",
     "shell.execute_reply.started": "2022-05-05T23:49:16.063076Z"
    }
   },
   "outputs": [],
   "source": [
    "def get_class(c):\n",
    "    if c == 14: return 'Other'\n",
    "    else: return i2l[c][2:]\n",
    "\n",
    "def pred2span(pred, example, viz=False, test=False):\n",
    "    example_id = example['id']\n",
    "    n_tokens = len(example['input_ids'])\n",
    "    classes = []\n",
    "    all_span = []\n",
    "    for i, c in enumerate(pred.tolist()):\n",
    "        if i == n_tokens-1:\n",
    "            break\n",
    "        if i == 0:\n",
    "            cur_span = example['offset_mapping'][i]\n",
    "            classes.append(get_class(c))\n",
    "        elif i > 0 and (c == pred[i-1] or (c-7) == pred[i-1]):\n",
    "            cur_span[1] = example['offset_mapping'][i][1]\n",
    "        else:\n",
    "            all_span.append(cur_span)\n",
    "            cur_span = example['offset_mapping'][i]\n",
    "            classes.append(get_class(c))\n",
    "    all_span.append(cur_span)\n",
    "    \n",
    "    if test: text = get_test_text(example_id)\n",
    "    else: text = get_raw_text(example_id)\n",
    "    \n",
    "    # abra ka dabra se soli fanta ko pelo\n",
    "    \n",
    "    # map token ids to word (whitespace) token ids\n",
    "    predstrings = []\n",
    "    for span in all_span:\n",
    "        span_start = span[0]\n",
    "        span_end = span[1]\n",
    "        before = text[:span_start]\n",
    "        token_start = len(before.split())\n",
    "        if len(before) == 0: token_start = 0\n",
    "        elif before[-1] != ' ': token_start -= 1\n",
    "        num_tkns = len(text[span_start:span_end+1].split())\n",
    "        tkns = [str(x) for x in range(token_start, token_start+num_tkns)]\n",
    "        predstring = ' '.join(tkns)\n",
    "        predstrings.append(predstring)\n",
    "                    \n",
    "    rows = []\n",
    "    for c, span, predstring in zip(classes, all_span, predstrings):\n",
    "        e = {\n",
    "            'id': example_id,\n",
    "            'discourse_type': c,\n",
    "            'predictionstring': predstring,\n",
    "            'discourse_start': span[0],\n",
    "            'discourse_end': span[1],\n",
    "            'discourse': text[span[0]:span[1]+1]\n",
    "        }\n",
    "        rows.append(e)\n",
    "\n",
    "\n",
    "    df = pd.DataFrame(rows)\n",
    "    df['length'] = df['discourse'].apply(lambda t: len(t.split()))\n",
    "    \n",
    "    # short spans are likely to be false positives, we can choose a min number of tokens based on validation\n",
    "    df = df[df.length > min_tokens].reset_index(drop=True)\n",
    "    if viz: visualize(df, text)\n",
    "\n",
    "    return df"
   ]
  },
  {
   "cell_type": "code",
   "execution_count": 38,
   "metadata": {
    "execution": {
     "iopub.execute_input": "2022-05-05T23:49:16.084191Z",
     "iopub.status.busy": "2022-05-05T23:49:16.082976Z",
     "iopub.status.idle": "2022-05-05T23:49:31.780856Z",
     "shell.execute_reply": "2022-05-05T23:49:31.779906Z",
     "shell.execute_reply.started": "2022-05-05T23:49:16.084142Z"
    }
   },
   "outputs": [
    {
     "data": {
      "text/html": [
       "<div>\n",
       "<style scoped>\n",
       "    .dataframe tbody tr th:only-of-type {\n",
       "        vertical-align: middle;\n",
       "    }\n",
       "\n",
       "    .dataframe tbody tr th {\n",
       "        vertical-align: top;\n",
       "    }\n",
       "\n",
       "    .dataframe thead th {\n",
       "        text-align: right;\n",
       "    }\n",
       "</style>\n",
       "<table border=\"1\" class=\"dataframe\">\n",
       "  <thead>\n",
       "    <tr style=\"text-align: right;\">\n",
       "      <th></th>\n",
       "      <th>id</th>\n",
       "      <th>discourse_type</th>\n",
       "      <th>predictionstring</th>\n",
       "      <th>discourse_start</th>\n",
       "      <th>discourse_end</th>\n",
       "      <th>discourse</th>\n",
       "      <th>length</th>\n",
       "      <th>class</th>\n",
       "    </tr>\n",
       "  </thead>\n",
       "  <tbody>\n",
       "    <tr>\n",
       "      <th>0</th>\n",
       "      <td>F4FD84517F40</td>\n",
       "      <td>Lead</td>\n",
       "      <td>0 1 2 3 4 5 6 7 8 9 10 11 12 13 14 15 16 17 18...</td>\n",
       "      <td>0</td>\n",
       "      <td>375</td>\n",
       "      <td>Schools are offering distant learning for stud...</td>\n",
       "      <td>63</td>\n",
       "      <td>Lead</td>\n",
       "    </tr>\n",
       "    <tr>\n",
       "      <th>1</th>\n",
       "      <td>F4FD84517F40</td>\n",
       "      <td>Position</td>\n",
       "      <td>62 63 64 65 66 67 68 69 70 71 72 73 74 75</td>\n",
       "      <td>375</td>\n",
       "      <td>458</td>\n",
       "      <td>classes would help tons of students move clos...</td>\n",
       "      <td>14</td>\n",
       "      <td>Position</td>\n",
       "    </tr>\n",
       "    <tr>\n",
       "      <th>2</th>\n",
       "      <td>F4FD84517F40</td>\n",
       "      <td>Claim</td>\n",
       "      <td>76 77 78 79 80 81 82 83 84 85 86 87 88 89 90 9...</td>\n",
       "      <td>460</td>\n",
       "      <td>613</td>\n",
       "      <td>Most of the people failing classes or didn't g...</td>\n",
       "      <td>27</td>\n",
       "      <td>Claim</td>\n",
       "    </tr>\n",
       "    <tr>\n",
       "      <th>3</th>\n",
       "      <td>F4FD84517F40</td>\n",
       "      <td>Evidence</td>\n",
       "      <td>104 105 106 107 108 109 110 111 112 113 114 11...</td>\n",
       "      <td>615</td>\n",
       "      <td>1104</td>\n",
       "      <td>big example of this is working. They have to ...</td>\n",
       "      <td>90</td>\n",
       "      <td>Evidence</td>\n",
       "    </tr>\n",
       "    <tr>\n",
       "      <th>4</th>\n",
       "      <td>F4FD84517F40</td>\n",
       "      <td>Rebuttal</td>\n",
       "      <td>202 203 204 205 206 207 208 209 210 211 212 21...</td>\n",
       "      <td>1150</td>\n",
       "      <td>1223</td>\n",
       "      <td>students grades are dropping due to the amoun...</td>\n",
       "      <td>13</td>\n",
       "      <td>Rebuttal</td>\n",
       "    </tr>\n",
       "    <tr>\n",
       "      <th>...</th>\n",
       "      <td>...</td>\n",
       "      <td>...</td>\n",
       "      <td>...</td>\n",
       "      <td>...</td>\n",
       "      <td>...</td>\n",
       "      <td>...</td>\n",
       "      <td>...</td>\n",
       "      <td>...</td>\n",
       "    </tr>\n",
       "    <tr>\n",
       "      <th>0</th>\n",
       "      <td>58F8F0F77817</td>\n",
       "      <td>Position</td>\n",
       "      <td>0 1 2 3 4 5 6 7</td>\n",
       "      <td>0</td>\n",
       "      <td>48</td>\n",
       "      <td>There are many advantages of limiting car usage,</td>\n",
       "      <td>8</td>\n",
       "      <td>Position</td>\n",
       "    </tr>\n",
       "    <tr>\n",
       "      <th>1</th>\n",
       "      <td>58F8F0F77817</td>\n",
       "      <td>Evidence</td>\n",
       "      <td>17 18 19 20 21 22 23 24 25 26 27 28 29 30 31 3...</td>\n",
       "      <td>99</td>\n",
       "      <td>462</td>\n",
       "      <td>\"Its a ood opportunity to take away stress an...</td>\n",
       "      <td>70</td>\n",
       "      <td>Evidence</td>\n",
       "    </tr>\n",
       "    <tr>\n",
       "      <th>2</th>\n",
       "      <td>58F8F0F77817</td>\n",
       "      <td>Evidence</td>\n",
       "      <td>94 95 96 97 98 99 100 101 102 103 104 105 106 ...</td>\n",
       "      <td>504</td>\n",
       "      <td>1021</td>\n",
       "      <td>can use someonjes elses gas instead of your o...</td>\n",
       "      <td>100</td>\n",
       "      <td>Evidence</td>\n",
       "    </tr>\n",
       "    <tr>\n",
       "      <th>3</th>\n",
       "      <td>58F8F0F77817</td>\n",
       "      <td>Evidence</td>\n",
       "      <td>205 206 207 208 209 210 211 212 213 214 215 21...</td>\n",
       "      <td>1094</td>\n",
       "      <td>1463</td>\n",
       "      <td>people that i know get really flustered ehen ...</td>\n",
       "      <td>68</td>\n",
       "      <td>Evidence</td>\n",
       "    </tr>\n",
       "    <tr>\n",
       "      <th>4</th>\n",
       "      <td>58F8F0F77817</td>\n",
       "      <td>Concluding Statement</td>\n",
       "      <td>276 277 278 279 280 281 282 283 284 285 286 28...</td>\n",
       "      <td>1486</td>\n",
       "      <td>1563</td>\n",
       "      <td>car usage is good because it save sgas and is...</td>\n",
       "      <td>14</td>\n",
       "      <td>Concluding Statement</td>\n",
       "    </tr>\n",
       "  </tbody>\n",
       "</table>\n",
       "<p>12392 rows × 8 columns</p>\n",
       "</div>"
      ],
      "text/plain": [
       "              id        discourse_type  \\\n",
       "0   F4FD84517F40                  Lead   \n",
       "1   F4FD84517F40              Position   \n",
       "2   F4FD84517F40                 Claim   \n",
       "3   F4FD84517F40              Evidence   \n",
       "4   F4FD84517F40              Rebuttal   \n",
       "..           ...                   ...   \n",
       "0   58F8F0F77817              Position   \n",
       "1   58F8F0F77817              Evidence   \n",
       "2   58F8F0F77817              Evidence   \n",
       "3   58F8F0F77817              Evidence   \n",
       "4   58F8F0F77817  Concluding Statement   \n",
       "\n",
       "                                     predictionstring  discourse_start  \\\n",
       "0   0 1 2 3 4 5 6 7 8 9 10 11 12 13 14 15 16 17 18...                0   \n",
       "1           62 63 64 65 66 67 68 69 70 71 72 73 74 75              375   \n",
       "2   76 77 78 79 80 81 82 83 84 85 86 87 88 89 90 9...              460   \n",
       "3   104 105 106 107 108 109 110 111 112 113 114 11...              615   \n",
       "4   202 203 204 205 206 207 208 209 210 211 212 21...             1150   \n",
       "..                                                ...              ...   \n",
       "0                                     0 1 2 3 4 5 6 7                0   \n",
       "1   17 18 19 20 21 22 23 24 25 26 27 28 29 30 31 3...               99   \n",
       "2   94 95 96 97 98 99 100 101 102 103 104 105 106 ...              504   \n",
       "3   205 206 207 208 209 210 211 212 213 214 215 21...             1094   \n",
       "4   276 277 278 279 280 281 282 283 284 285 286 28...             1486   \n",
       "\n",
       "    discourse_end                                          discourse  length  \\\n",
       "0             375  Schools are offering distant learning for stud...      63   \n",
       "1             458   classes would help tons of students move clos...      14   \n",
       "2             613  Most of the people failing classes or didn't g...      27   \n",
       "3            1104   big example of this is working. They have to ...      90   \n",
       "4            1223   students grades are dropping due to the amoun...      13   \n",
       "..            ...                                                ...     ...   \n",
       "0              48  There are many advantages of limiting car usage,        8   \n",
       "1             462   \"Its a ood opportunity to take away stress an...      70   \n",
       "2            1021   can use someonjes elses gas instead of your o...     100   \n",
       "3            1463   people that i know get really flustered ehen ...      68   \n",
       "4            1563   car usage is good because it save sgas and is...      14   \n",
       "\n",
       "                   class  \n",
       "0                   Lead  \n",
       "1               Position  \n",
       "2                  Claim  \n",
       "3               Evidence  \n",
       "4               Rebuttal  \n",
       "..                   ...  \n",
       "0               Position  \n",
       "1               Evidence  \n",
       "2               Evidence  \n",
       "3               Evidence  \n",
       "4   Concluding Statement  \n",
       "\n",
       "[12392 rows x 8 columns]"
      ]
     },
     "execution_count": 38,
     "metadata": {},
     "output_type": "execute_result"
    }
   ],
   "source": [
    "dfs = []\n",
    "for i in range(len(tokenized_test['test'])):\n",
    "    dfs.append(pred2span(preds[i], tokenized_test['test'][i]))\n",
    "\n",
    "pred_df = pd.concat(dfs, axis=0)\n",
    "pred_df['class'] = pred_df['discourse_type']\n",
    "pred_df"
   ]
  },
  {
   "cell_type": "code",
   "execution_count": 39,
   "metadata": {
    "execution": {
     "iopub.execute_input": "2022-05-05T23:49:31.783305Z",
     "iopub.status.busy": "2022-05-05T23:49:31.782689Z",
     "iopub.status.idle": "2022-05-05T23:49:31.802939Z",
     "shell.execute_reply": "2022-05-05T23:49:31.801742Z",
     "shell.execute_reply.started": "2022-05-05T23:49:31.783259Z"
    }
   },
   "outputs": [],
   "source": [
    "def calc_overlap(row):\n",
    "    #Calculates the overlap between prediction and ground truth and \n",
    "    #overlap percentages used for determining true positives.\n",
    "    set_pred = set(row.predictionstring_pred.split(\" \"))\n",
    "    set_gt = set(row.predictionstring_gt.split(\" \"))\n",
    "    # Length of each and intersection\n",
    "    len_gt = len(set_gt)\n",
    "    len_pred = len(set_pred)\n",
    "    inter = len(set_gt.intersection(set_pred))\n",
    "    overlap_1 = inter / len_gt\n",
    "    overlap_2 = inter / len_pred\n",
    "    return [overlap_1, overlap_2]\n",
    "\n",
    "\n",
    "def score_feedback_comp_micro(pred_df, gt_df):\n",
    "    gt_df = (\n",
    "        gt_df[[\"id\", \"discourse_type\", \"predictionstring\"]]\n",
    "        .reset_index(drop=True)\n",
    "        .copy()\n",
    "    )\n",
    "    pred_df = pred_df[[\"id\", \"class\", \"predictionstring\"]].reset_index(drop=True).copy()\n",
    "    pred_df[\"pred_id\"] = pred_df.index\n",
    "    gt_df[\"gt_id\"] = gt_df.index\n",
    "    # Step 1. all ground truths and predictions for a given class are compared.\n",
    "    joined = pred_df.merge(\n",
    "        gt_df,\n",
    "        left_on=[\"id\", \"class\"],\n",
    "        right_on=[\"id\", \"discourse_type\"],\n",
    "        how=\"outer\",\n",
    "        suffixes=(\"_pred\", \"_gt\"),\n",
    "    )\n",
    "    joined[\"predictionstring_gt\"] = joined[\"predictionstring_gt\"].fillna(\" \")\n",
    "    joined[\"predictionstring_pred\"] = joined[\"predictionstring_pred\"].fillna(\" \")\n",
    "\n",
    "    joined[\"overlaps\"] = joined.apply(calc_overlap, axis=1)\n",
    "\n",
    "    # 2. If the overlap between the ground truth and prediction is >= 0.5,\n",
    "    # and the overlap between the prediction and the ground truth >= 0.5,\n",
    "    # the prediction is a match and considered a true positive.\n",
    "    # If multiple matches exist, the match with the highest pair of overlaps is taken.\n",
    "    joined[\"overlap1\"] = joined[\"overlaps\"].apply(lambda x: eval(str(x))[0])\n",
    "    joined[\"overlap2\"] = joined[\"overlaps\"].apply(lambda x: eval(str(x))[1])\n",
    "\n",
    "    joined[\"potential_TP\"] = (joined[\"overlap1\"] >= 0.5) & (joined[\"overlap2\"] >= 0.5)\n",
    "    joined[\"max_overlap\"] = joined[[\"overlap1\", \"overlap2\"]].max(axis=1)\n",
    "    tp_pred_ids = (\n",
    "        joined.query(\"potential_TP\")\n",
    "        .sort_values(\"max_overlap\", ascending=False)\n",
    "        .groupby([\"id\", \"predictionstring_gt\"])\n",
    "        .first()[\"pred_id\"]\n",
    "        .values\n",
    "    )\n",
    "\n",
    "    # 3. Any unmatched ground truths are false negatives\n",
    "    # and any unmatched predictions are false positives.\n",
    "    fp_pred_ids = [p for p in joined[\"pred_id\"].unique() if p not in tp_pred_ids]\n",
    "\n",
    "    matched_gt_ids = joined.query(\"potential_TP\")[\"gt_id\"].unique()\n",
    "    unmatched_gt_ids = [c for c in joined[\"gt_id\"].unique() if c not in matched_gt_ids]\n",
    "\n",
    "    # Get numbers of each type\n",
    "    TP = len(tp_pred_ids)\n",
    "    FP = len(fp_pred_ids)\n",
    "    FN = len(unmatched_gt_ids)\n",
    "    # calc microf1\n",
    "    my_f1_score = TP / (TP + 0.5 * (FP + FN))\n",
    "    return my_f1_score\n",
    "\n",
    "\n",
    "def score_feedback_comp(pred_df, gt_df, return_class_scores=False):\n",
    "    class_scores = {}\n",
    "    pred_df = pred_df[[\"id\", \"class\", \"predictionstring\"]].reset_index(drop=True).copy()\n",
    "    for discourse_type, gt_subset in gt_df.groupby(\"discourse_type\"):\n",
    "        pred_subset = (\n",
    "            pred_df.loc[pred_df[\"class\"] == discourse_type]\n",
    "            .reset_index(drop=True)\n",
    "            .copy()\n",
    "        )\n",
    "        class_score = score_feedback_comp_micro(pred_subset, gt_subset)\n",
    "        class_scores[discourse_type] = class_score\n",
    "    f1 = np.mean([v for v in class_scores.values()])\n",
    "    if return_class_scores:\n",
    "        return f1, class_scores\n",
    "    return f1"
   ]
  },
  {
   "cell_type": "markdown",
   "metadata": {},
   "source": [
    "## F-1 Score on Test Data"
   ]
  },
  {
   "cell_type": "code",
   "execution_count": 40,
   "metadata": {
    "execution": {
     "iopub.execute_input": "2022-05-05T23:49:31.805019Z",
     "iopub.status.busy": "2022-05-05T23:49:31.804462Z",
     "iopub.status.idle": "2022-05-05T23:49:35.152127Z",
     "shell.execute_reply": "2022-05-05T23:49:35.150951Z",
     "shell.execute_reply.started": "2022-05-05T23:49:31.804972Z"
    }
   },
   "outputs": [
    {
     "data": {
      "text/plain": [
       "(0.5565781498148266,\n",
       " {'Claim': 0.5013676588897827,\n",
       "  'Concluding Statement': 0.6702800361336947,\n",
       "  'Counterclaim': 0.43243243243243246,\n",
       "  'Evidence': 0.6306351183063512,\n",
       "  'Lead': 0.7511139401654997,\n",
       "  'Position': 0.5899053627760252,\n",
       "  'Rebuttal': 0.3203125})"
      ]
     },
     "execution_count": 40,
     "metadata": {},
     "output_type": "execute_result"
    }
   ],
   "source": [
    "score_feedback_comp(pred_df, gt_df, return_class_scores=True)"
   ]
  },
  {
   "cell_type": "markdown",
   "metadata": {},
   "source": [
    "## Demo - Visualising Predictions on Test Data"
   ]
  },
  {
   "cell_type": "code",
   "execution_count": 45,
   "metadata": {
    "execution": {
     "iopub.execute_input": "2022-05-06T00:11:35.542595Z",
     "iopub.status.busy": "2022-05-06T00:11:35.542199Z",
     "iopub.status.idle": "2022-05-06T00:11:35.558853Z",
     "shell.execute_reply": "2022-05-06T00:11:35.557616Z",
     "shell.execute_reply.started": "2022-05-06T00:11:35.542562Z"
    }
   },
   "outputs": [
    {
     "data": {
      "text/html": [
       "<div>\n",
       "<style scoped>\n",
       "    .dataframe tbody tr th:only-of-type {\n",
       "        vertical-align: middle;\n",
       "    }\n",
       "\n",
       "    .dataframe tbody tr th {\n",
       "        vertical-align: top;\n",
       "    }\n",
       "\n",
       "    .dataframe thead th {\n",
       "        text-align: right;\n",
       "    }\n",
       "</style>\n",
       "<table border=\"1\" class=\"dataframe\">\n",
       "  <thead>\n",
       "    <tr style=\"text-align: right;\">\n",
       "      <th></th>\n",
       "      <th>id</th>\n",
       "      <th>discourse_type</th>\n",
       "      <th>predictionstring</th>\n",
       "      <th>discourse_start</th>\n",
       "      <th>discourse_end</th>\n",
       "      <th>discourse</th>\n",
       "      <th>length</th>\n",
       "      <th>class</th>\n",
       "    </tr>\n",
       "  </thead>\n",
       "  <tbody>\n",
       "    <tr>\n",
       "      <th>0</th>\n",
       "      <td>F4FD84517F40</td>\n",
       "      <td>Lead</td>\n",
       "      <td>0 1 2 3 4 5 6 7 8 9 10 11 12 13 14 15 16 17 18...</td>\n",
       "      <td>0</td>\n",
       "      <td>375</td>\n",
       "      <td>Schools are offering distant learning for stud...</td>\n",
       "      <td>63</td>\n",
       "      <td>Lead</td>\n",
       "    </tr>\n",
       "    <tr>\n",
       "      <th>1</th>\n",
       "      <td>F4FD84517F40</td>\n",
       "      <td>Position</td>\n",
       "      <td>62 63 64 65 66 67 68 69 70 71 72 73 74 75</td>\n",
       "      <td>375</td>\n",
       "      <td>458</td>\n",
       "      <td>classes would help tons of students move clos...</td>\n",
       "      <td>14</td>\n",
       "      <td>Position</td>\n",
       "    </tr>\n",
       "    <tr>\n",
       "      <th>2</th>\n",
       "      <td>F4FD84517F40</td>\n",
       "      <td>Claim</td>\n",
       "      <td>76 77 78 79 80 81 82 83 84 85 86 87 88 89 90 9...</td>\n",
       "      <td>460</td>\n",
       "      <td>613</td>\n",
       "      <td>Most of the people failing classes or didn't g...</td>\n",
       "      <td>27</td>\n",
       "      <td>Claim</td>\n",
       "    </tr>\n",
       "    <tr>\n",
       "      <th>3</th>\n",
       "      <td>F4FD84517F40</td>\n",
       "      <td>Evidence</td>\n",
       "      <td>104 105 106 107 108 109 110 111 112 113 114 11...</td>\n",
       "      <td>615</td>\n",
       "      <td>1104</td>\n",
       "      <td>big example of this is working. They have to ...</td>\n",
       "      <td>90</td>\n",
       "      <td>Evidence</td>\n",
       "    </tr>\n",
       "    <tr>\n",
       "      <th>4</th>\n",
       "      <td>F4FD84517F40</td>\n",
       "      <td>Rebuttal</td>\n",
       "      <td>202 203 204 205 206 207 208 209 210 211 212 21...</td>\n",
       "      <td>1150</td>\n",
       "      <td>1223</td>\n",
       "      <td>students grades are dropping due to the amoun...</td>\n",
       "      <td>13</td>\n",
       "      <td>Rebuttal</td>\n",
       "    </tr>\n",
       "  </tbody>\n",
       "</table>\n",
       "</div>"
      ],
      "text/plain": [
       "             id discourse_type  \\\n",
       "0  F4FD84517F40           Lead   \n",
       "1  F4FD84517F40       Position   \n",
       "2  F4FD84517F40          Claim   \n",
       "3  F4FD84517F40       Evidence   \n",
       "4  F4FD84517F40       Rebuttal   \n",
       "\n",
       "                                    predictionstring  discourse_start  \\\n",
       "0  0 1 2 3 4 5 6 7 8 9 10 11 12 13 14 15 16 17 18...                0   \n",
       "1          62 63 64 65 66 67 68 69 70 71 72 73 74 75              375   \n",
       "2  76 77 78 79 80 81 82 83 84 85 86 87 88 89 90 9...              460   \n",
       "3  104 105 106 107 108 109 110 111 112 113 114 11...              615   \n",
       "4  202 203 204 205 206 207 208 209 210 211 212 21...             1150   \n",
       "\n",
       "   discourse_end                                          discourse  length  \\\n",
       "0            375  Schools are offering distant learning for stud...      63   \n",
       "1            458   classes would help tons of students move clos...      14   \n",
       "2            613  Most of the people failing classes or didn't g...      27   \n",
       "3           1104   big example of this is working. They have to ...      90   \n",
       "4           1223   students grades are dropping due to the amoun...      13   \n",
       "\n",
       "      class  \n",
       "0      Lead  \n",
       "1  Position  \n",
       "2     Claim  \n",
       "3  Evidence  \n",
       "4  Rebuttal  "
      ]
     },
     "execution_count": 45,
     "metadata": {},
     "output_type": "execute_result"
    }
   ],
   "source": [
    "pred_df.head()"
   ]
  },
  {
   "cell_type": "code",
   "execution_count": 42,
   "metadata": {
    "execution": {
     "iopub.execute_input": "2022-05-05T23:49:35.179683Z",
     "iopub.status.busy": "2022-05-05T23:49:35.179017Z",
     "iopub.status.idle": "2022-05-05T23:49:35.223379Z",
     "shell.execute_reply": "2022-05-05T23:49:35.222355Z",
     "shell.execute_reply.started": "2022-05-05T23:49:35.179636Z"
    }
   },
   "outputs": [
    {
     "data": {
      "text/html": [
       "<span class=\"tex2jax_ignore\"><h2 style=\"margin: 0\">F4FD84517F40</h2>\n",
       "\n",
       "<div class=\"entities\" style=\"line-height: 2.5; direction: ltr\">\n",
       "<mark class=\"entity\" style=\"background: #8000ff; padding: 0.45em 0.6em; margin: 0 0.25em; line-height: 1; border-radius: 0.35em;\">\n",
       "    Schools are offering distant learning for students to attend classes off campus. Many students are saying this is great and they are taking the offer to continue and better their education. On the other hand, some say that this is not the best idea for schooling. Schools want to give students an opportunity to better their learning and stay connected with education. Online\n",
       "    <span style=\"font-size: 0.8em; font-weight: bold; line-height: 1; border-radius: 0.35em; vertical-align: middle; margin-left: 0.5rem\">Lead</span>\n",
       "</mark>\n",
       "\n",
       "<mark class=\"entity\" style=\"background: #2b7ff6; padding: 0.45em 0.6em; margin: 0 0.25em; line-height: 1; border-radius: 0.35em;\">\n",
       "     classes would help tons of students move closer to graduation and a better future.\n",
       "    <span style=\"font-size: 0.8em; font-weight: bold; line-height: 1; border-radius: 0.35em; vertical-align: middle; margin-left: 0.5rem\">Position</span>\n",
       "</mark>\n",
       "</br></br>\n",
       "<mark class=\"entity\" style=\"background: #80ffb4; padding: 0.45em 0.6em; margin: 0 0.25em; line-height: 1; border-radius: 0.35em;\">\n",
       "    Most of the people failing classes or didn't graduate the first time around have things they have to do outside of school to help support their families.\n",
       "    <span style=\"font-size: 0.8em; font-weight: bold; line-height: 1; border-radius: 0.35em; vertical-align: middle; margin-left: 0.5rem\">Claim</span>\n",
       "</mark>\n",
       " A\n",
       "<mark class=\"entity\" style=\"background: #2adddd; padding: 0.45em 0.6em; margin: 0 0.25em; line-height: 1; border-radius: 0.35em;\">\n",
       "     big example of this is working. They have to work to make money for their families but without all of the education they need, they can't work for a better paying job. Therefore, lots of people are working multiple jobs to support families; this is leaving them no time to spend six to eight hours of the day in a building. Another example is that nowadays many teens are having to stay home to watch their own child or watching a family member because of finances in their home. Although\n",
       "    <span style=\"font-size: 0.8em; font-weight: bold; line-height: 1; border-radius: 0.35em; vertical-align: middle; margin-left: 0.5rem\">Evidence</span>\n",
       "</mark>\n",
       " being home may help out with home situations,\n",
       "<mark class=\"entity\" style=\"background: #ff0000; padding: 0.45em 0.6em; margin: 0 0.25em; line-height: 1; border-radius: 0.35em;\">\n",
       "     students grades are dropping due to the amount of absent days in classes\n",
       "    <span style=\"font-size: 0.8em; font-weight: bold; line-height: 1; border-radius: 0.35em; vertical-align: middle; margin-left: 0.5rem\">Rebuttal</span>\n",
       "</mark>\n",
       ". Online classes and video conferencing would benefit these students\n",
       "<mark class=\"entity\" style=\"background: #2adddd; padding: 0.45em 0.6em; margin: 0 0.25em; line-height: 1; border-radius: 0.35em;\">\n",
       "     by allowing them to take classes at night and/or multitask during the day.\n",
       "    <span style=\"font-size: 0.8em; font-weight: bold; line-height: 1; border-radius: 0.35em; vertical-align: middle; margin-left: 0.5rem\">Evidence</span>\n",
       "</mark>\n",
       "</br></br>\n",
       "<mark class=\"entity\" style=\"background: #80ffb4; padding: 0.45em 0.6em; margin: 0 0.25em; line-height: 1; border-radius: 0.35em;\">\n",
       "    Another case where distant learning may come in use is for students very involved in sports.\n",
       "    <span style=\"font-size: 0.8em; font-weight: bold; line-height: 1; border-radius: 0.35em; vertical-align: middle; margin-left: 0.5rem\">Claim</span>\n",
       "</mark>\n",
       " Doing\n",
       "<mark class=\"entity\" style=\"background: #2adddd; padding: 0.45em 0.6em; margin: 0 0.25em; line-height: 1; border-radius: 0.35em;\">\n",
       "     a sport can be a big responsibility. Sports are very time consuming, although some athletes make it look easy, there is a lot that goes into playing. Many levels of sports may require leaving the state or country for days, sometimes even weeks. While playing a sport it is easy to be injured or become sick. Furthermore, students are loosing class time and unable to make up for missed days in little time. Distant learning would be beneficial for those who travel so they can take their school work along and manage their free time. Online classes also help when they are sick or injured to give them time to rest and heal and still not miss out on continuing to learning.\n",
       "    <span style=\"font-size: 0.8em; font-weight: bold; line-height: 1; border-radius: 0.35em; vertical-align: middle; margin-left: 0.5rem\">Evidence</span>\n",
       "</mark>\n",
       "</br></br>In conclusion, yes distant learning as an option to students is\n",
       "<mark class=\"entity\" style=\"background: d4dd80; padding: 0.45em 0.6em; margin: 0 0.25em; line-height: 1; border-radius: 0.35em;\">\n",
       "     very beneficial. Allowing students to attend class from home or while traveling could get more and more people willing to go further in learning.\n",
       "    <span style=\"font-size: 0.8em; font-weight: bold; line-height: 1; border-radius: 0.35em; vertical-align: middle; margin-left: 0.5rem\">Concluding Statement</span>\n",
       "</mark>\n",
       "</div></span>"
      ],
      "text/plain": [
       "<IPython.core.display.HTML object>"
      ]
     },
     "metadata": {},
     "output_type": "display_data"
    },
    {
     "data": {
      "text/html": [
       "<div>\n",
       "<style scoped>\n",
       "    .dataframe tbody tr th:only-of-type {\n",
       "        vertical-align: middle;\n",
       "    }\n",
       "\n",
       "    .dataframe tbody tr th {\n",
       "        vertical-align: top;\n",
       "    }\n",
       "\n",
       "    .dataframe thead th {\n",
       "        text-align: right;\n",
       "    }\n",
       "</style>\n",
       "<table border=\"1\" class=\"dataframe\">\n",
       "  <thead>\n",
       "    <tr style=\"text-align: right;\">\n",
       "      <th></th>\n",
       "      <th>id</th>\n",
       "      <th>discourse_type</th>\n",
       "      <th>predictionstring</th>\n",
       "      <th>discourse_start</th>\n",
       "      <th>discourse_end</th>\n",
       "      <th>discourse</th>\n",
       "      <th>length</th>\n",
       "    </tr>\n",
       "  </thead>\n",
       "  <tbody>\n",
       "    <tr>\n",
       "      <th>0</th>\n",
       "      <td>F4FD84517F40</td>\n",
       "      <td>Lead</td>\n",
       "      <td>0 1 2 3 4 5 6 7 8 9 10 11 12 13 14 15 16 17 18...</td>\n",
       "      <td>0</td>\n",
       "      <td>375</td>\n",
       "      <td>Schools are offering distant learning for stud...</td>\n",
       "      <td>63</td>\n",
       "    </tr>\n",
       "    <tr>\n",
       "      <th>1</th>\n",
       "      <td>F4FD84517F40</td>\n",
       "      <td>Position</td>\n",
       "      <td>62 63 64 65 66 67 68 69 70 71 72 73 74 75</td>\n",
       "      <td>375</td>\n",
       "      <td>458</td>\n",
       "      <td>classes would help tons of students move clos...</td>\n",
       "      <td>14</td>\n",
       "    </tr>\n",
       "    <tr>\n",
       "      <th>2</th>\n",
       "      <td>F4FD84517F40</td>\n",
       "      <td>Claim</td>\n",
       "      <td>76 77 78 79 80 81 82 83 84 85 86 87 88 89 90 9...</td>\n",
       "      <td>460</td>\n",
       "      <td>613</td>\n",
       "      <td>Most of the people failing classes or didn't g...</td>\n",
       "      <td>27</td>\n",
       "    </tr>\n",
       "    <tr>\n",
       "      <th>3</th>\n",
       "      <td>F4FD84517F40</td>\n",
       "      <td>Evidence</td>\n",
       "      <td>104 105 106 107 108 109 110 111 112 113 114 11...</td>\n",
       "      <td>615</td>\n",
       "      <td>1104</td>\n",
       "      <td>big example of this is working. They have to ...</td>\n",
       "      <td>90</td>\n",
       "    </tr>\n",
       "    <tr>\n",
       "      <th>4</th>\n",
       "      <td>F4FD84517F40</td>\n",
       "      <td>Rebuttal</td>\n",
       "      <td>202 203 204 205 206 207 208 209 210 211 212 21...</td>\n",
       "      <td>1150</td>\n",
       "      <td>1223</td>\n",
       "      <td>students grades are dropping due to the amoun...</td>\n",
       "      <td>13</td>\n",
       "    </tr>\n",
       "    <tr>\n",
       "      <th>5</th>\n",
       "      <td>F4FD84517F40</td>\n",
       "      <td>Evidence</td>\n",
       "      <td>224 225 226 227 228 229 230 231 232 233 234 23...</td>\n",
       "      <td>1291</td>\n",
       "      <td>1366</td>\n",
       "      <td>by allowing them to take classes at night and...</td>\n",
       "      <td>13</td>\n",
       "    </tr>\n",
       "    <tr>\n",
       "      <th>6</th>\n",
       "      <td>F4FD84517F40</td>\n",
       "      <td>Claim</td>\n",
       "      <td>237 238 239 240 241 242 243 244 245 246 247 24...</td>\n",
       "      <td>1368</td>\n",
       "      <td>1460</td>\n",
       "      <td>Another case where distant learning may come i...</td>\n",
       "      <td>16</td>\n",
       "    </tr>\n",
       "    <tr>\n",
       "      <th>7</th>\n",
       "      <td>F4FD84517F40</td>\n",
       "      <td>Evidence</td>\n",
       "      <td>254 255 256 257 258 259 260 261 262 263 264 26...</td>\n",
       "      <td>1466</td>\n",
       "      <td>2140</td>\n",
       "      <td>a sport can be a big responsibility. Sports a...</td>\n",
       "      <td>122</td>\n",
       "    </tr>\n",
       "    <tr>\n",
       "      <th>8</th>\n",
       "      <td>F4FD84517F40</td>\n",
       "      <td>Concluding Statement</td>\n",
       "      <td>387 388 389 390 391 392 393 394 395 396 397 39...</td>\n",
       "      <td>2205</td>\n",
       "      <td>2351</td>\n",
       "      <td>very beneficial. Allowing students to attend ...</td>\n",
       "      <td>24</td>\n",
       "    </tr>\n",
       "  </tbody>\n",
       "</table>\n",
       "</div>"
      ],
      "text/plain": [
       "             id        discourse_type  \\\n",
       "0  F4FD84517F40                  Lead   \n",
       "1  F4FD84517F40              Position   \n",
       "2  F4FD84517F40                 Claim   \n",
       "3  F4FD84517F40              Evidence   \n",
       "4  F4FD84517F40              Rebuttal   \n",
       "5  F4FD84517F40              Evidence   \n",
       "6  F4FD84517F40                 Claim   \n",
       "7  F4FD84517F40              Evidence   \n",
       "8  F4FD84517F40  Concluding Statement   \n",
       "\n",
       "                                    predictionstring  discourse_start  \\\n",
       "0  0 1 2 3 4 5 6 7 8 9 10 11 12 13 14 15 16 17 18...                0   \n",
       "1          62 63 64 65 66 67 68 69 70 71 72 73 74 75              375   \n",
       "2  76 77 78 79 80 81 82 83 84 85 86 87 88 89 90 9...              460   \n",
       "3  104 105 106 107 108 109 110 111 112 113 114 11...              615   \n",
       "4  202 203 204 205 206 207 208 209 210 211 212 21...             1150   \n",
       "5  224 225 226 227 228 229 230 231 232 233 234 23...             1291   \n",
       "6  237 238 239 240 241 242 243 244 245 246 247 24...             1368   \n",
       "7  254 255 256 257 258 259 260 261 262 263 264 26...             1466   \n",
       "8  387 388 389 390 391 392 393 394 395 396 397 39...             2205   \n",
       "\n",
       "   discourse_end                                          discourse  length  \n",
       "0            375  Schools are offering distant learning for stud...      63  \n",
       "1            458   classes would help tons of students move clos...      14  \n",
       "2            613  Most of the people failing classes or didn't g...      27  \n",
       "3           1104   big example of this is working. They have to ...      90  \n",
       "4           1223   students grades are dropping due to the amoun...      13  \n",
       "5           1366   by allowing them to take classes at night and...      13  \n",
       "6           1460  Another case where distant learning may come i...      16  \n",
       "7           2140   a sport can be a big responsibility. Sports a...     122  \n",
       "8           2351   very beneficial. Allowing students to attend ...      24  "
      ]
     },
     "execution_count": 42,
     "metadata": {},
     "output_type": "execute_result"
    }
   ],
   "source": [
    "pred2span(preds[0], tokenized_test['test'][0], viz=True)"
   ]
  }
 ],
 "metadata": {
  "kernelspec": {
   "display_name": "Python 3 (ipykernel)",
   "language": "python",
   "name": "python3"
  },
  "language_info": {
   "codemirror_mode": {
    "name": "ipython",
    "version": 3
   },
   "file_extension": ".py",
   "mimetype": "text/x-python",
   "name": "python",
   "nbconvert_exporter": "python",
   "pygments_lexer": "ipython3",
   "version": "3.9.10"
  }
 },
 "nbformat": 4,
 "nbformat_minor": 4
}
